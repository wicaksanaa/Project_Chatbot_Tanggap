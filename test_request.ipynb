{
 "cells": [
  {
   "cell_type": "code",
   "execution_count": 2,
   "metadata": {},
   "outputs": [],
   "source": [
    "import requests"
   ]
  },
  {
   "cell_type": "code",
   "execution_count": 1,
   "metadata": {},
   "outputs": [],
   "source": [
    "# URL endpoint dari API\n",
    "url = 'http://localhost:5000/chat'  # Sesuaikan dengan URL yang sesuai dengan tempat Anda menjalankan API"
   ]
  },
  {
   "cell_type": "code",
   "execution_count": 5,
   "metadata": {},
   "outputs": [],
   "source": [
    "# Pesan yang ingin Anda kirimkan ke chatbot\n",
    "message = {'message': 'Apa itu tanggap'}"
   ]
  },
  {
   "cell_type": "code",
   "execution_count": 6,
   "metadata": {},
   "outputs": [
    {
     "name": "stdout",
     "output_type": "stream",
     "text": [
      "Bot: Aplikasi Tanggap adalah sarana pengaduan masyarakat terhadap suatu masalah. Dengan aplikasi ini, Anda bisa melaporkan berbagai permasalahan yang dihadapi dan mendapatkan solusi atau tindak lanjut dari pihak berwenang.\n"
     ]
    }
   ],
   "source": [
    "\n",
    "# Mengirim permintaan POST ke API dengan pesan yang Anda berikan\n",
    "response = requests.post(url, json=message)\n",
    "\n",
    "# Mengekstrak respons dari chatbot dari respons API\n",
    "response_data = response.json()\n",
    "\n",
    "# Mencetak respons dari chatbot\n",
    "print(\"Bot:\", response_data['response'])"
   ]
  }
 ],
 "metadata": {
  "kernelspec": {
   "display_name": "Python 3",
   "language": "python",
   "name": "python3"
  },
  "language_info": {
   "codemirror_mode": {
    "name": "ipython",
    "version": 3
   },
   "file_extension": ".py",
   "mimetype": "text/x-python",
   "name": "python",
   "nbconvert_exporter": "python",
   "pygments_lexer": "ipython3",
   "version": "3.12.1"
  }
 },
 "nbformat": 4,
 "nbformat_minor": 2
}
