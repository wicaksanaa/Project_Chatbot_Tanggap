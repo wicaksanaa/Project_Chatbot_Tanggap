{
 "cells": [
  {
   "cell_type": "code",
   "execution_count": 1,
   "metadata": {},
   "outputs": [],
   "source": [
    "import requests"
   ]
  },
  {
   "cell_type": "code",
   "execution_count": 9,
   "metadata": {},
   "outputs": [],
   "source": [
    "# URL API Flask\n",
    "url = 'https://chatbot-tanggap-c9421ff1fead.herokuapp.com/chatbot'"
   ]
  },
  {
   "cell_type": "code",
   "execution_count": 12,
   "metadata": {},
   "outputs": [],
   "source": [
    "# Data yang akan dikirim ke API\n",
    "data = {\n",
    "    'message': 'apa itu tanggap'\n",
    "}"
   ]
  },
  {
   "cell_type": "code",
   "execution_count": 13,
   "metadata": {},
   "outputs": [],
   "source": [
    "# Mengirim permintaan POST\n",
    "response = requests.post(url, json=data)"
   ]
  },
  {
   "cell_type": "code",
   "execution_count": 14,
   "metadata": {},
   "outputs": [
    {
     "name": "stdout",
     "output_type": "stream",
     "text": [
      "Status code: 200\n",
      "Response: {'response': 'Aplikasi Tanggap adalah sarana pengaduan masyarakat terhadap suatu masalah. Dengan aplikasi ini, Anda bisa melaporkan berbagai permasalahan yang dihadapi dan mendapatkan solusi atau tindak lanjut dari pihak berwenang.'}\n"
     ]
    }
   ],
   "source": [
    "print('Status code:', response.status_code)\n",
    "if response.status_code == 200:\n",
    "    print('Response:', response.json())\n",
    "else:\n",
    "    print('Failed to get response. Status code:', response.status_code)"
   ]
  }
 ],
 "metadata": {
  "kernelspec": {
   "display_name": "Python 3",
   "language": "python",
   "name": "python3"
  },
  "language_info": {
   "codemirror_mode": {
    "name": "ipython",
    "version": 3
   },
   "file_extension": ".py",
   "mimetype": "text/x-python",
   "name": "python",
   "nbconvert_exporter": "python",
   "pygments_lexer": "ipython3",
   "version": "3.12.1"
  }
 },
 "nbformat": 4,
 "nbformat_minor": 2
}
