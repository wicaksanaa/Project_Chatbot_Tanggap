{
 "cells": [
  {
   "cell_type": "code",
   "execution_count": 1,
   "metadata": {},
   "outputs": [
    {
     "name": "stderr",
     "output_type": "stream",
     "text": [
      "c:\\Users\\N7N0C\\AppData\\Local\\Programs\\Python\\Python312\\Lib\\site-packages\\onnxruntime\\capi\\onnxruntime_validation.py:26: UserWarning: Unsupported Windows version (11). ONNX Runtime supports Windows 10 and above, only.\n",
      "  warnings.warn(\n"
     ]
    }
   ],
   "source": [
    "import re\n",
    "import string\n",
    "import json\n",
    "import torch\n",
    "import random\n",
    "from transformers import AutoTokenizer, AutoModel\n",
    "from sklearn.metrics.pairwise import cosine_similarity\n",
    "from sentence_transformers import evaluation\n",
    "from sentence_transformers import util\n",
    "from torch.utils.data import DataLoader\n",
    "from sentence_transformers import SentenceTransformer, SentencesDataset, InputExample, losses"
   ]
  },
  {
   "cell_type": "code",
   "execution_count": 2,
   "metadata": {},
   "outputs": [],
   "source": [
    "def load_intent_data(file_path):\n",
    "    with open(file_path, 'r') as file:\n",
    "        data = json.load(file)\n",
    "    return data"
   ]
  },
  {
   "cell_type": "code",
   "execution_count": 3,
   "metadata": {},
   "outputs": [],
   "source": [
    "intent_data = load_intent_data('Dataset Chatbot.json')"
   ]
  },
  {
   "cell_type": "code",
   "execution_count": 4,
   "metadata": {},
   "outputs": [],
   "source": [
    "tag_to_label = {intent['tag']: idx for idx, intent in enumerate(intent_data['intents'])}"
   ]
  },
  {
   "cell_type": "code",
   "execution_count": 5,
   "metadata": {},
   "outputs": [],
   "source": [
    "train_examples = []\n",
    "for intent in intent_data['intents']:\n",
    "    for pattern in intent['patterns']:\n",
    "        label = tag_to_label[intent['tag']]   # Mengonversi tag menjadi label numerik\n",
    "        train_examples.append(InputExample(texts=[pattern, pattern], label=float(label))) # Mengonversi label ke float"
   ]
  },
  {
   "cell_type": "code",
   "execution_count": 6,
   "metadata": {},
   "outputs": [
    {
     "data": {
      "application/vnd.jupyter.widget-view+json": {
       "model_id": "1f54083cea5548a8b0c982086962a18c",
       "version_major": 2,
       "version_minor": 0
      },
      "text/plain": [
       "Epoch:   0%|          | 0/25 [00:00<?, ?it/s]"
      ]
     },
     "metadata": {},
     "output_type": "display_data"
    },
    {
     "data": {
      "application/vnd.jupyter.widget-view+json": {
       "model_id": "f4430f3a2faf42d8a8e525238232ce48",
       "version_major": 2,
       "version_minor": 0
      },
      "text/plain": [
       "Iteration:   0%|          | 0/22 [00:00<?, ?it/s]"
      ]
     },
     "metadata": {},
     "output_type": "display_data"
    },
    {
     "data": {
      "application/vnd.jupyter.widget-view+json": {
       "model_id": "0bb9466cfbc445b29e40a5bb186ca776",
       "version_major": 2,
       "version_minor": 0
      },
      "text/plain": [
       "Iteration:   0%|          | 0/22 [00:00<?, ?it/s]"
      ]
     },
     "metadata": {},
     "output_type": "display_data"
    },
    {
     "data": {
      "application/vnd.jupyter.widget-view+json": {
       "model_id": "ba8434dd413b4573aea2218607898211",
       "version_major": 2,
       "version_minor": 0
      },
      "text/plain": [
       "Iteration:   0%|          | 0/22 [00:00<?, ?it/s]"
      ]
     },
     "metadata": {},
     "output_type": "display_data"
    },
    {
     "data": {
      "application/vnd.jupyter.widget-view+json": {
       "model_id": "cd174b279d344682beed9ad749d6a5ae",
       "version_major": 2,
       "version_minor": 0
      },
      "text/plain": [
       "Iteration:   0%|          | 0/22 [00:00<?, ?it/s]"
      ]
     },
     "metadata": {},
     "output_type": "display_data"
    },
    {
     "data": {
      "application/vnd.jupyter.widget-view+json": {
       "model_id": "4ecf50f81b3845be8f350c74fb8bc160",
       "version_major": 2,
       "version_minor": 0
      },
      "text/plain": [
       "Iteration:   0%|          | 0/22 [00:00<?, ?it/s]"
      ]
     },
     "metadata": {},
     "output_type": "display_data"
    },
    {
     "data": {
      "application/vnd.jupyter.widget-view+json": {
       "model_id": "6cce838805f145b6a9e25065f9228617",
       "version_major": 2,
       "version_minor": 0
      },
      "text/plain": [
       "Iteration:   0%|          | 0/22 [00:00<?, ?it/s]"
      ]
     },
     "metadata": {},
     "output_type": "display_data"
    },
    {
     "data": {
      "application/vnd.jupyter.widget-view+json": {
       "model_id": "6649b6898fad4efe82b5c0130851d1ba",
       "version_major": 2,
       "version_minor": 0
      },
      "text/plain": [
       "Iteration:   0%|          | 0/22 [00:00<?, ?it/s]"
      ]
     },
     "metadata": {},
     "output_type": "display_data"
    },
    {
     "data": {
      "application/vnd.jupyter.widget-view+json": {
       "model_id": "487bb92d83dd4d679fe89bea2764a8ff",
       "version_major": 2,
       "version_minor": 0
      },
      "text/plain": [
       "Iteration:   0%|          | 0/22 [00:00<?, ?it/s]"
      ]
     },
     "metadata": {},
     "output_type": "display_data"
    },
    {
     "data": {
      "application/vnd.jupyter.widget-view+json": {
       "model_id": "6434facb28d74fbc960f0723ca4b50c7",
       "version_major": 2,
       "version_minor": 0
      },
      "text/plain": [
       "Iteration:   0%|          | 0/22 [00:00<?, ?it/s]"
      ]
     },
     "metadata": {},
     "output_type": "display_data"
    },
    {
     "data": {
      "application/vnd.jupyter.widget-view+json": {
       "model_id": "71d488191a004865a450c3af07adebfa",
       "version_major": 2,
       "version_minor": 0
      },
      "text/plain": [
       "Iteration:   0%|          | 0/22 [00:00<?, ?it/s]"
      ]
     },
     "metadata": {},
     "output_type": "display_data"
    },
    {
     "data": {
      "application/vnd.jupyter.widget-view+json": {
       "model_id": "29d8c2a759314f7b9a08fd3ffd6121a7",
       "version_major": 2,
       "version_minor": 0
      },
      "text/plain": [
       "Iteration:   0%|          | 0/22 [00:00<?, ?it/s]"
      ]
     },
     "metadata": {},
     "output_type": "display_data"
    },
    {
     "data": {
      "application/vnd.jupyter.widget-view+json": {
       "model_id": "9ff97dfc3d7944f8a53686540ab5b193",
       "version_major": 2,
       "version_minor": 0
      },
      "text/plain": [
       "Iteration:   0%|          | 0/22 [00:00<?, ?it/s]"
      ]
     },
     "metadata": {},
     "output_type": "display_data"
    },
    {
     "data": {
      "application/vnd.jupyter.widget-view+json": {
       "model_id": "fe3b3dce400a423ebb932d6d0f692a61",
       "version_major": 2,
       "version_minor": 0
      },
      "text/plain": [
       "Iteration:   0%|          | 0/22 [00:00<?, ?it/s]"
      ]
     },
     "metadata": {},
     "output_type": "display_data"
    },
    {
     "data": {
      "application/vnd.jupyter.widget-view+json": {
       "model_id": "e5c32f32a2ce4ccbb7f16a4d8c79049d",
       "version_major": 2,
       "version_minor": 0
      },
      "text/plain": [
       "Iteration:   0%|          | 0/22 [00:00<?, ?it/s]"
      ]
     },
     "metadata": {},
     "output_type": "display_data"
    },
    {
     "data": {
      "application/vnd.jupyter.widget-view+json": {
       "model_id": "f6c83cedbf8e4397ac0d4cc6d7d7683a",
       "version_major": 2,
       "version_minor": 0
      },
      "text/plain": [
       "Iteration:   0%|          | 0/22 [00:00<?, ?it/s]"
      ]
     },
     "metadata": {},
     "output_type": "display_data"
    },
    {
     "data": {
      "application/vnd.jupyter.widget-view+json": {
       "model_id": "680b48fdfb7d482cba9572c90a6e252f",
       "version_major": 2,
       "version_minor": 0
      },
      "text/plain": [
       "Iteration:   0%|          | 0/22 [00:00<?, ?it/s]"
      ]
     },
     "metadata": {},
     "output_type": "display_data"
    },
    {
     "data": {
      "application/vnd.jupyter.widget-view+json": {
       "model_id": "505b3d48126a48bc9617afb1645bfb51",
       "version_major": 2,
       "version_minor": 0
      },
      "text/plain": [
       "Iteration:   0%|          | 0/22 [00:00<?, ?it/s]"
      ]
     },
     "metadata": {},
     "output_type": "display_data"
    },
    {
     "data": {
      "application/vnd.jupyter.widget-view+json": {
       "model_id": "7646e2f5e2ef420ebb6e69bdfcc5af6e",
       "version_major": 2,
       "version_minor": 0
      },
      "text/plain": [
       "Iteration:   0%|          | 0/22 [00:00<?, ?it/s]"
      ]
     },
     "metadata": {},
     "output_type": "display_data"
    },
    {
     "data": {
      "application/vnd.jupyter.widget-view+json": {
       "model_id": "3d4cfe7a040948e28e0aa9c1d5d3725c",
       "version_major": 2,
       "version_minor": 0
      },
      "text/plain": [
       "Iteration:   0%|          | 0/22 [00:00<?, ?it/s]"
      ]
     },
     "metadata": {},
     "output_type": "display_data"
    },
    {
     "data": {
      "application/vnd.jupyter.widget-view+json": {
       "model_id": "0d6d3d42da7049939a32f5f6e5871d4f",
       "version_major": 2,
       "version_minor": 0
      },
      "text/plain": [
       "Iteration:   0%|          | 0/22 [00:00<?, ?it/s]"
      ]
     },
     "metadata": {},
     "output_type": "display_data"
    },
    {
     "data": {
      "application/vnd.jupyter.widget-view+json": {
       "model_id": "430e8431821a4ccca320aa4822ed1e99",
       "version_major": 2,
       "version_minor": 0
      },
      "text/plain": [
       "Iteration:   0%|          | 0/22 [00:00<?, ?it/s]"
      ]
     },
     "metadata": {},
     "output_type": "display_data"
    },
    {
     "data": {
      "application/vnd.jupyter.widget-view+json": {
       "model_id": "66840ba8ff274d1aae774d97f678cdbd",
       "version_major": 2,
       "version_minor": 0
      },
      "text/plain": [
       "Iteration:   0%|          | 0/22 [00:00<?, ?it/s]"
      ]
     },
     "metadata": {},
     "output_type": "display_data"
    },
    {
     "data": {
      "application/vnd.jupyter.widget-view+json": {
       "model_id": "54daf6b07dc649f09f34b7f6a6bb4a61",
       "version_major": 2,
       "version_minor": 0
      },
      "text/plain": [
       "Iteration:   0%|          | 0/22 [00:00<?, ?it/s]"
      ]
     },
     "metadata": {},
     "output_type": "display_data"
    },
    {
     "data": {
      "application/vnd.jupyter.widget-view+json": {
       "model_id": "cacf2e528f144d1bbccba217f2d6c0ea",
       "version_major": 2,
       "version_minor": 0
      },
      "text/plain": [
       "Iteration:   0%|          | 0/22 [00:00<?, ?it/s]"
      ]
     },
     "metadata": {},
     "output_type": "display_data"
    },
    {
     "data": {
      "application/vnd.jupyter.widget-view+json": {
       "model_id": "989131077f0649d298a71069efd9f097",
       "version_major": 2,
       "version_minor": 0
      },
      "text/plain": [
       "Iteration:   0%|          | 0/22 [00:00<?, ?it/s]"
      ]
     },
     "metadata": {},
     "output_type": "display_data"
    }
   ],
   "source": [
    "# Create a model\n",
    "model = SentenceTransformer('paraphrase-MiniLM-L6-v2')\n",
    "\n",
    "# Define a batch size\n",
    "batch_size = 32\n",
    "\n",
    "# Define a dataloader\n",
    "train_dataloader = DataLoader(train_examples, shuffle=True, batch_size=batch_size)\n",
    "\n",
    "# Define a loss function\n",
    "train_loss = losses.CosineSimilarityLoss(model)\n",
    "\n",
    "# Training the model\n",
    "model.fit(train_objectives=[(train_dataloader, train_loss)], epochs=25, save_best_model=True, output_path='model/')"
   ]
  },
  {
   "cell_type": "code",
   "execution_count": 7,
   "metadata": {},
   "outputs": [],
   "source": [
    "def match_intent(input_token, intent_data, model):\n",
    "    input_embeddings = model.encode(input_token, convert_to_tensor=True)\n",
    "\n",
    "    best_match = None\n",
    "    best_similarity = -1  # Perhatikan bahwa similarity akan menjadi nilai -1 hingga 1.\n",
    "\n",
    "    for intent in intent_data['intents']:\n",
    "        for pattern in intent['patterns']:\n",
    "            pattern_embedding = model.encode(pattern, convert_to_tensor=True)\n",
    "            similarity = util.pytorch_cos_sim(input_embeddings, pattern_embedding)[0].item()\n",
    "\n",
    "            if similarity > best_similarity:\n",
    "                best_similarity = similarity\n",
    "                best_match = (intent, pattern, similarity)\n",
    "\n",
    "    return best_match"
   ]
  },
  {
   "cell_type": "code",
   "execution_count": 8,
   "metadata": {},
   "outputs": [],
   "source": [
    "model = SentenceTransformer('model')"
   ]
  },
  {
   "cell_type": "code",
   "execution_count": 9,
   "metadata": {},
   "outputs": [
    {
     "name": "stdout",
     "output_type": "stream",
     "text": [
      "tensor([ 6.0677e-02,  1.1360e+00,  1.8714e-01, -5.8197e-03, -6.4986e-01,\n",
      "        -4.2507e-01,  8.0370e-01, -4.1109e-01,  5.2938e-01, -1.7792e-01,\n",
      "         4.8003e-01, -7.6061e-01,  2.5018e-01, -1.6979e-01,  7.8725e-01,\n",
      "        -1.3629e-01, -5.6345e-02,  1.7577e-01, -4.5617e-01, -5.3044e-02,\n",
      "         6.2468e-02,  2.6787e-01,  1.4820e-01,  8.9380e-02,  4.0076e-02,\n",
      "        -8.0694e-02, -3.9750e-01,  7.9232e-02,  2.2385e-01, -6.3609e-01,\n",
      "         1.3482e-01,  9.5486e-02,  2.9533e-01,  4.3064e-02, -3.0380e-01,\n",
      "         1.0151e+00, -2.8465e-02,  1.6090e-01, -5.6772e-01,  5.5935e-03,\n",
      "         3.5345e-01, -1.4155e-01,  2.7630e-02, -2.8739e-01, -4.5375e-02,\n",
      "        -1.0867e-01, -4.2615e-01, -1.2192e-01, -1.3298e-01,  1.3708e-01,\n",
      "        -5.7365e-01, -1.3820e-01,  3.1823e-01,  1.7995e-01,  6.8687e-01,\n",
      "         2.4904e-02,  5.3244e-01,  9.2128e-01,  3.0548e-01, -5.7254e-01,\n",
      "         4.4847e-02,  1.1831e-01, -1.1274e+00,  5.4294e-01,  5.0628e-01,\n",
      "        -4.9272e-01,  2.9050e-02, -5.7895e-01, -7.1506e-01, -2.7057e-01,\n",
      "         6.2434e-01, -4.1967e-01, -7.4540e-03, -2.7110e-01, -5.9107e-01,\n",
      "        -3.1655e-01,  1.2632e-01, -4.7593e-02, -4.3150e-01,  4.4842e-01,\n",
      "         1.6965e-01,  3.6118e-01,  4.8782e-02,  1.9634e-01,  9.9556e-02,\n",
      "         6.4970e-01, -1.0828e-03,  9.3190e-02,  3.5645e-01, -7.2965e-04,\n",
      "        -1.8179e-01, -1.2177e-01,  4.2079e-01, -5.5589e-03,  8.2998e-02,\n",
      "        -9.8634e-02,  2.3872e-01, -7.4535e-01, -2.4649e-01,  2.0905e+00,\n",
      "         2.7967e-01,  2.8520e-01, -7.7460e-02,  1.7546e-01, -9.2528e-02,\n",
      "        -4.0098e-01,  5.9986e-01,  2.1453e-01, -2.7412e-01,  3.7920e-01,\n",
      "        -3.6199e-01, -5.2595e-01, -1.4995e-01, -7.7712e-02,  2.2674e-01,\n",
      "         5.5596e-01, -2.8944e-01, -7.8349e-02, -1.1804e+00, -2.0088e-01,\n",
      "         3.5028e-01,  2.3209e-01, -6.3814e-02,  5.2977e-01,  1.1959e-01,\n",
      "        -3.2397e-01,  6.3943e-02,  4.9264e-01,  8.7207e-02,  1.0936e-01,\n",
      "         4.1924e-01, -1.1837e-01,  7.9158e-01, -1.6043e-01, -8.7413e-02,\n",
      "         2.0664e-01, -1.8706e-01, -1.6042e-01, -2.7527e-01,  1.5045e-01,\n",
      "        -4.3665e-01, -7.5257e-02,  1.2521e-01, -4.1716e-02, -4.8031e-02,\n",
      "         3.9100e-01,  4.8068e-01, -2.6227e-01,  4.8983e-02, -1.5152e-01,\n",
      "        -2.2570e-01, -6.2580e-01,  2.4853e-01,  2.8304e-01,  5.8201e-01,\n",
      "        -2.8169e-01,  7.9203e-01,  9.5999e-01, -8.0264e-02,  1.8031e-01,\n",
      "        -1.4477e-01, -2.6638e-01, -3.4440e-01,  5.5605e-01, -4.7008e-01,\n",
      "        -2.5268e-01, -3.7250e-01, -1.4435e-01,  3.2199e-01,  4.7662e-01,\n",
      "        -4.5818e-01,  1.8978e-01, -1.0018e-01,  3.5037e-01,  2.6517e-01,\n",
      "        -5.0086e-01,  2.1890e-01,  5.8068e-01,  1.4995e-01,  5.3834e-01,\n",
      "        -1.2924e+00, -2.4308e-01,  5.3338e-01,  7.0894e-01, -6.0909e-02,\n",
      "         1.5909e-01, -3.0966e-02,  4.8731e-01, -4.7957e-01, -4.5057e-01,\n",
      "        -1.3055e-01, -2.3139e-01, -1.8970e-02, -6.4515e-02, -3.5803e-01,\n",
      "        -1.8064e-01,  1.3425e-02, -4.5241e-01, -5.1403e-01, -1.4904e-01,\n",
      "        -2.6256e-01,  4.3438e-01,  1.8623e-01, -5.5709e-01,  3.1824e-01,\n",
      "        -2.2639e-01,  4.5421e-02,  3.1059e-01, -8.8900e-01,  8.3277e-01,\n",
      "         1.0860e-01, -8.5474e-02, -1.2025e-01,  2.4480e-01,  3.7148e-01,\n",
      "        -1.0610e-01, -1.3443e-01, -1.3189e-01, -4.7484e-01,  2.8045e-01,\n",
      "         3.4206e-01, -8.6817e-01, -7.1895e-01, -7.4325e-01,  2.9282e-03,\n",
      "        -8.4685e-01, -8.5377e-01,  6.9398e-02,  6.6643e-01, -2.7045e-01,\n",
      "        -2.1523e-01,  5.7423e-01, -2.8689e-01, -1.3667e-01, -5.5474e-01,\n",
      "         1.9576e-01,  1.6513e-03, -6.7191e-02,  3.7618e-01, -1.8067e-01,\n",
      "         5.3182e-01, -1.2446e-01,  3.2313e-01,  4.1471e-01, -9.4726e-02,\n",
      "        -7.7506e-02, -5.5025e-01,  3.5117e-01, -6.3929e-01,  1.2766e+00,\n",
      "         1.3835e-01,  5.5442e-01,  2.6837e-01,  2.0898e-01, -2.1887e-01,\n",
      "        -4.2783e-01, -6.4609e-01,  4.5803e-01, -1.2476e-01, -9.2729e-02,\n",
      "        -4.2901e-01,  2.7727e-02, -6.2116e-01, -9.8919e-02,  8.4684e-02,\n",
      "         7.4541e-02, -3.6469e-01,  6.8892e-01, -4.0712e-01, -7.3916e-02,\n",
      "         4.2315e-01,  2.6525e-01,  2.1240e-01, -8.8812e-01, -1.2539e-01,\n",
      "        -6.2781e-01,  1.7350e-01, -2.3176e-01, -1.6886e-01,  2.4546e-01,\n",
      "        -1.1571e-01, -5.0290e-01, -1.0575e-01,  1.9668e-04, -1.4090e-01,\n",
      "         6.1933e-02,  1.4304e-01,  1.1361e-01, -9.2567e-01, -1.0235e-01,\n",
      "         2.8036e-01,  2.9078e-01, -4.3904e-01, -2.7455e-01,  5.3056e-02,\n",
      "        -6.4916e-01, -4.5520e-01,  7.8495e-01, -2.9448e-01,  2.1992e-01,\n",
      "        -4.5413e-01,  1.7853e-01,  3.1791e-01, -5.0395e-01, -5.1517e-01,\n",
      "         4.1480e-01, -3.6886e-01, -7.0523e-02,  8.8798e-01,  1.1103e-01,\n",
      "         2.0757e-01,  1.5347e-02, -7.3257e-02,  5.1647e-01,  2.4807e-01,\n",
      "         4.3680e-01,  1.3741e-01,  6.5817e-02,  6.5330e-02, -2.5785e-01,\n",
      "        -9.4550e-02,  2.1520e-01, -3.8319e-01,  4.7737e-01, -1.1260e-01,\n",
      "        -1.0617e-01,  4.0860e-01, -5.8469e-01, -2.3715e-01,  1.3642e-01,\n",
      "        -1.7540e-01, -3.1498e-01,  5.5374e-02,  4.2291e-01,  3.9216e-01,\n",
      "         2.4891e-01,  2.4750e-01, -1.7850e-01, -5.3901e-01, -7.4378e-01,\n",
      "        -2.6870e-02,  7.1067e-01,  3.7916e-01, -4.7757e-01, -6.8217e-01,\n",
      "         4.7171e-01, -4.9248e-01, -4.9374e-01, -2.7287e-02,  4.0570e-01,\n",
      "         1.9956e-01,  7.4567e-01, -7.8729e-01, -5.1868e-01, -2.3093e-01,\n",
      "         1.4043e-02,  2.8039e-01, -2.5817e-01,  2.4498e-01,  1.8755e-01,\n",
      "         9.9937e-01, -8.8807e-02,  3.6749e-01,  6.1994e-01, -1.4700e-02,\n",
      "         2.7738e-01,  7.8758e-01, -5.2137e-01, -6.1460e-01, -9.5883e-02,\n",
      "        -2.8480e-01, -3.0001e-01, -7.9967e-03,  7.3261e-02,  2.7551e-01,\n",
      "         2.2212e-01,  2.1322e-01, -8.9442e-02, -6.3615e-01,  4.2939e-01,\n",
      "         9.4682e-01, -5.8963e-01, -3.1064e-02,  2.4178e-01], device='cuda:0')\n",
      "Input user: halo\n",
      "Token input cocok dengan intent: greetings\n",
      "Pola terbaik: halo\n",
      "Kemiripan: 100.00%\n",
      "Bot :  Halo, selamat datang di fitur chatbot Tanggap. Ada yang bisa saya bantu?\n",
      "masuk break\n"
     ]
    }
   ],
   "source": [
    "while True:\n",
    "    try:\n",
    "        input_user = input(\"You: \")\n",
    "        if input_user in (\"quit\", \"exit\"):\n",
    "            print(\"masuk break\")\n",
    "            break\n",
    "        best_match = match_intent(input_user, intent_data, model)\n",
    "        if best_match is not None:\n",
    "            matched_intent, matched_pattern, similarity = best_match\n",
    "            if similarity >= 0.8:\n",
    "                print(f\"Input user: {input_user}\")\n",
    "                print(f\"Token input cocok dengan intent: {matched_intent['tag']}\")\n",
    "                print(f\"Pola terbaik: {matched_pattern}\")\n",
    "                print(f\"Kemiripan: {similarity * 100:.2f}%\")\n",
    "                print(\"Bot : \", random.choice(matched_intent['response']))\n",
    "            else:\n",
    "                print(\"Mohon maaf chatbot tidak mengerti instruksi dari anda. Mohon berikan instruksi ulang atau berikan instruksi lain.\")\n",
    "        else:\n",
    "            print(\"Mohon maaf chatbot tidak mengerti instruksi dari anda. Mohon berikan instruksi ulang atau berikan instruksi lain.\")\n",
    "    except Exception as e:\n",
    "        print(\"Terjadi kesalahan:\", e)"
   ]
  }
 ],
 "metadata": {
  "kernelspec": {
   "display_name": "Python 3",
   "language": "python",
   "name": "python3"
  },
  "language_info": {
   "codemirror_mode": {
    "name": "ipython",
    "version": 3
   },
   "file_extension": ".py",
   "mimetype": "text/x-python",
   "name": "python",
   "nbconvert_exporter": "python",
   "pygments_lexer": "ipython3",
   "version": "3.12.1"
  }
 },
 "nbformat": 4,
 "nbformat_minor": 2
}
