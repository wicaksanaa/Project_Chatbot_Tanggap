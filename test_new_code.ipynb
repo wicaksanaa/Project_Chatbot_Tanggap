{
 "cells": [
  {
   "cell_type": "code",
   "execution_count": 83,
   "metadata": {},
   "outputs": [],
   "source": [
    "import re\n",
    "import string\n",
    "import json\n",
    "import torch\n",
    "import random\n",
    "from transformers import AutoTokenizer, AutoModel\n",
    "from sklearn.metrics.pairwise import cosine_similarity\n",
    "from sentence_transformers import evaluation\n",
    "from sentence_transformers import util\n",
    "from torch.utils.data import DataLoader\n",
    "from sentence_transformers import SentenceTransformer, SentencesDataset, InputExample, losses"
   ]
  },
  {
   "cell_type": "code",
   "execution_count": 84,
   "metadata": {},
   "outputs": [],
   "source": [
    "def load_intent_data(file_path):\n",
    "    with open(file_path, 'r') as file:\n",
    "        data = json.load(file)\n",
    "    return data"
   ]
  },
  {
   "cell_type": "code",
   "execution_count": 85,
   "metadata": {},
   "outputs": [],
   "source": [
    "intent_data = load_intent_data('Dataset Chatbot.json')"
   ]
  },
  {
   "cell_type": "code",
   "execution_count": 86,
   "metadata": {},
   "outputs": [],
   "source": [
    "train_examples = [InputExample(texts=[pattern], label=intent['tag']) for intent in intent_data['intents'] for pattern in intent['patterns']]"
   ]
  },
  {
   "cell_type": "code",
   "execution_count": 87,
   "metadata": {},
   "outputs": [],
   "source": [
    "tag_to_label = {intent['tag']: idx for idx, intent in enumerate(intent_data['intents'])}"
   ]
  },
  {
   "cell_type": "code",
   "execution_count": 88,
   "metadata": {},
   "outputs": [],
   "source": [
    "train_examples = []\n",
    "for intent in intent_data['intents']:\n",
    "    for pattern in intent['patterns']:\n",
    "        label = tag_to_label[intent['tag']]   # Mengonversi tag menjadi label numerik\n",
    "        train_examples.append(InputExample(texts=[pattern, pattern], label=float(label))) # Mengonversi label ke float"
   ]
  },
  {
   "cell_type": "code",
   "execution_count": 89,
   "metadata": {},
   "outputs": [
    {
     "data": {
      "application/vnd.jupyter.widget-view+json": {
       "model_id": "b5d63abed3624d8eb404371c125f4163",
       "version_major": 2,
       "version_minor": 0
      },
      "text/plain": [
       "Epoch:   0%|          | 0/25 [00:00<?, ?it/s]"
      ]
     },
     "metadata": {},
     "output_type": "display_data"
    },
    {
     "data": {
      "application/vnd.jupyter.widget-view+json": {
       "model_id": "7996444e4a7b4de1aee153d3581bb86f",
       "version_major": 2,
       "version_minor": 0
      },
      "text/plain": [
       "Iteration:   0%|          | 0/22 [00:00<?, ?it/s]"
      ]
     },
     "metadata": {},
     "output_type": "display_data"
    },
    {
     "data": {
      "application/vnd.jupyter.widget-view+json": {
       "model_id": "9831b577723c45f88af8c92c438b6c79",
       "version_major": 2,
       "version_minor": 0
      },
      "text/plain": [
       "Iteration:   0%|          | 0/22 [00:00<?, ?it/s]"
      ]
     },
     "metadata": {},
     "output_type": "display_data"
    },
    {
     "data": {
      "application/vnd.jupyter.widget-view+json": {
       "model_id": "c1432c64e8c741acbfb7a58a861a49ff",
       "version_major": 2,
       "version_minor": 0
      },
      "text/plain": [
       "Iteration:   0%|          | 0/22 [00:00<?, ?it/s]"
      ]
     },
     "metadata": {},
     "output_type": "display_data"
    },
    {
     "data": {
      "application/vnd.jupyter.widget-view+json": {
       "model_id": "e23530f454cb4423a284c4680b27e050",
       "version_major": 2,
       "version_minor": 0
      },
      "text/plain": [
       "Iteration:   0%|          | 0/22 [00:00<?, ?it/s]"
      ]
     },
     "metadata": {},
     "output_type": "display_data"
    },
    {
     "data": {
      "application/vnd.jupyter.widget-view+json": {
       "model_id": "b5481cd8141f41f8a2083b0e4dd68333",
       "version_major": 2,
       "version_minor": 0
      },
      "text/plain": [
       "Iteration:   0%|          | 0/22 [00:00<?, ?it/s]"
      ]
     },
     "metadata": {},
     "output_type": "display_data"
    },
    {
     "data": {
      "application/vnd.jupyter.widget-view+json": {
       "model_id": "3e9a64012c30445cbd3e4174934c8c8a",
       "version_major": 2,
       "version_minor": 0
      },
      "text/plain": [
       "Iteration:   0%|          | 0/22 [00:00<?, ?it/s]"
      ]
     },
     "metadata": {},
     "output_type": "display_data"
    },
    {
     "data": {
      "application/vnd.jupyter.widget-view+json": {
       "model_id": "1b2e2833157c4b52b1425bb4e363fdf7",
       "version_major": 2,
       "version_minor": 0
      },
      "text/plain": [
       "Iteration:   0%|          | 0/22 [00:00<?, ?it/s]"
      ]
     },
     "metadata": {},
     "output_type": "display_data"
    },
    {
     "data": {
      "application/vnd.jupyter.widget-view+json": {
       "model_id": "e4a75a23adcb4c28bff1b80f1c4d5708",
       "version_major": 2,
       "version_minor": 0
      },
      "text/plain": [
       "Iteration:   0%|          | 0/22 [00:00<?, ?it/s]"
      ]
     },
     "metadata": {},
     "output_type": "display_data"
    },
    {
     "data": {
      "application/vnd.jupyter.widget-view+json": {
       "model_id": "1181acd9fb3d4b6b9d31090d6e7f4eb7",
       "version_major": 2,
       "version_minor": 0
      },
      "text/plain": [
       "Iteration:   0%|          | 0/22 [00:00<?, ?it/s]"
      ]
     },
     "metadata": {},
     "output_type": "display_data"
    },
    {
     "data": {
      "application/vnd.jupyter.widget-view+json": {
       "model_id": "bf91dedd5acb43b9a0f9eb7600e9375f",
       "version_major": 2,
       "version_minor": 0
      },
      "text/plain": [
       "Iteration:   0%|          | 0/22 [00:00<?, ?it/s]"
      ]
     },
     "metadata": {},
     "output_type": "display_data"
    },
    {
     "data": {
      "application/vnd.jupyter.widget-view+json": {
       "model_id": "5ac1894852f54c428aebb0c883c75afe",
       "version_major": 2,
       "version_minor": 0
      },
      "text/plain": [
       "Iteration:   0%|          | 0/22 [00:00<?, ?it/s]"
      ]
     },
     "metadata": {},
     "output_type": "display_data"
    },
    {
     "data": {
      "application/vnd.jupyter.widget-view+json": {
       "model_id": "7630796b3860491898def1ea37572101",
       "version_major": 2,
       "version_minor": 0
      },
      "text/plain": [
       "Iteration:   0%|          | 0/22 [00:00<?, ?it/s]"
      ]
     },
     "metadata": {},
     "output_type": "display_data"
    },
    {
     "data": {
      "application/vnd.jupyter.widget-view+json": {
       "model_id": "3e3abd2a43084749823d786ca8d95f9f",
       "version_major": 2,
       "version_minor": 0
      },
      "text/plain": [
       "Iteration:   0%|          | 0/22 [00:00<?, ?it/s]"
      ]
     },
     "metadata": {},
     "output_type": "display_data"
    },
    {
     "data": {
      "application/vnd.jupyter.widget-view+json": {
       "model_id": "7d2e0e19cab145329b2aff13285e87ed",
       "version_major": 2,
       "version_minor": 0
      },
      "text/plain": [
       "Iteration:   0%|          | 0/22 [00:00<?, ?it/s]"
      ]
     },
     "metadata": {},
     "output_type": "display_data"
    },
    {
     "data": {
      "application/vnd.jupyter.widget-view+json": {
       "model_id": "419d0358684c491db1ed9c0d7ba175c8",
       "version_major": 2,
       "version_minor": 0
      },
      "text/plain": [
       "Iteration:   0%|          | 0/22 [00:00<?, ?it/s]"
      ]
     },
     "metadata": {},
     "output_type": "display_data"
    },
    {
     "data": {
      "application/vnd.jupyter.widget-view+json": {
       "model_id": "c476f3e3b61b48959f4a807605539ef0",
       "version_major": 2,
       "version_minor": 0
      },
      "text/plain": [
       "Iteration:   0%|          | 0/22 [00:00<?, ?it/s]"
      ]
     },
     "metadata": {},
     "output_type": "display_data"
    },
    {
     "data": {
      "application/vnd.jupyter.widget-view+json": {
       "model_id": "005ac8519fe04823a2e6f117e9470f59",
       "version_major": 2,
       "version_minor": 0
      },
      "text/plain": [
       "Iteration:   0%|          | 0/22 [00:00<?, ?it/s]"
      ]
     },
     "metadata": {},
     "output_type": "display_data"
    },
    {
     "data": {
      "application/vnd.jupyter.widget-view+json": {
       "model_id": "2851906c3f014bcea2315e82b0461ab6",
       "version_major": 2,
       "version_minor": 0
      },
      "text/plain": [
       "Iteration:   0%|          | 0/22 [00:00<?, ?it/s]"
      ]
     },
     "metadata": {},
     "output_type": "display_data"
    },
    {
     "data": {
      "application/vnd.jupyter.widget-view+json": {
       "model_id": "4cb35cdfeefc4b72a46e332ea8b7d09d",
       "version_major": 2,
       "version_minor": 0
      },
      "text/plain": [
       "Iteration:   0%|          | 0/22 [00:00<?, ?it/s]"
      ]
     },
     "metadata": {},
     "output_type": "display_data"
    },
    {
     "data": {
      "application/vnd.jupyter.widget-view+json": {
       "model_id": "4398f6a6eda14e95afef0e3be9f9c627",
       "version_major": 2,
       "version_minor": 0
      },
      "text/plain": [
       "Iteration:   0%|          | 0/22 [00:00<?, ?it/s]"
      ]
     },
     "metadata": {},
     "output_type": "display_data"
    },
    {
     "data": {
      "application/vnd.jupyter.widget-view+json": {
       "model_id": "d00314deba7642b6bec2017d33aace15",
       "version_major": 2,
       "version_minor": 0
      },
      "text/plain": [
       "Iteration:   0%|          | 0/22 [00:00<?, ?it/s]"
      ]
     },
     "metadata": {},
     "output_type": "display_data"
    },
    {
     "data": {
      "application/vnd.jupyter.widget-view+json": {
       "model_id": "68819fb911b6486588e82365a3fbdc5f",
       "version_major": 2,
       "version_minor": 0
      },
      "text/plain": [
       "Iteration:   0%|          | 0/22 [00:00<?, ?it/s]"
      ]
     },
     "metadata": {},
     "output_type": "display_data"
    },
    {
     "data": {
      "application/vnd.jupyter.widget-view+json": {
       "model_id": "8077815ee14c4c1db7aca228298df112",
       "version_major": 2,
       "version_minor": 0
      },
      "text/plain": [
       "Iteration:   0%|          | 0/22 [00:00<?, ?it/s]"
      ]
     },
     "metadata": {},
     "output_type": "display_data"
    },
    {
     "data": {
      "application/vnd.jupyter.widget-view+json": {
       "model_id": "baf3862cf9924094a8368eccaed6328d",
       "version_major": 2,
       "version_minor": 0
      },
      "text/plain": [
       "Iteration:   0%|          | 0/22 [00:00<?, ?it/s]"
      ]
     },
     "metadata": {},
     "output_type": "display_data"
    },
    {
     "data": {
      "application/vnd.jupyter.widget-view+json": {
       "model_id": "e6ac6c5f8ed64360abe78b30916475d9",
       "version_major": 2,
       "version_minor": 0
      },
      "text/plain": [
       "Iteration:   0%|          | 0/22 [00:00<?, ?it/s]"
      ]
     },
     "metadata": {},
     "output_type": "display_data"
    }
   ],
   "source": [
    "# Create a model\n",
    "model = SentenceTransformer('paraphrase-MiniLM-L6-v2')\n",
    "\n",
    "# Define a batch size\n",
    "batch_size = 32\n",
    "\n",
    "# Define a dataloader\n",
    "train_dataloader = DataLoader(train_examples, shuffle=True, batch_size=batch_size)\n",
    "\n",
    "# Define a loss function\n",
    "train_loss = losses.CosineSimilarityLoss(model)\n",
    "\n",
    "# Training the model\n",
    "model.fit(train_objectives=[(train_dataloader, train_loss)], epochs=25, save_best_model=True, output_path='model/')"
   ]
  },
  {
   "cell_type": "code",
   "execution_count": 90,
   "metadata": {},
   "outputs": [],
   "source": [
    "def match_intent(input_token, intent_data, model):\n",
    "    input_embeddings = model.encode(input_token, convert_to_tensor=True)\n",
    "\n",
    "    best_match = None\n",
    "    best_similarity = -1  # Perhatikan bahwa similarity akan menjadi nilai -1 hingga 1.\n",
    "\n",
    "    for intent in intent_data['intents']:\n",
    "        for pattern in intent['patterns']:\n",
    "            pattern_embedding = model.encode(pattern, convert_to_tensor=True)\n",
    "            similarity = util.pytorch_cos_sim(input_embeddings, pattern_embedding)[0].item()\n",
    "\n",
    "            if similarity > best_similarity:\n",
    "                best_similarity = similarity\n",
    "                best_match = (intent, pattern, similarity)\n",
    "\n",
    "    return best_match"
   ]
  },
  {
   "cell_type": "code",
   "execution_count": 91,
   "metadata": {},
   "outputs": [],
   "source": [
    "model = SentenceTransformer('model')"
   ]
  },
  {
   "cell_type": "code",
   "execution_count": 92,
   "metadata": {},
   "outputs": [
    {
     "name": "stdout",
     "output_type": "stream",
     "text": [
      "Input user: halo\n",
      "Token input cocok dengan intent: greetings\n",
      "Pola terbaik: halo\n",
      "Kemiripan: 100.00%\n",
      "Bot :  Halo, selamat datang di fitur chatbot Tanggap. Ada yang bisa saya bantu?\n",
      "Input user: fasilitas sekolah ada yang rusak\n",
      "Token input cocok dengan intent: pengaduan-fasilitas-sekolah\n",
      "Pola terbaik: fasilitas sekolah tidak berfungsi\n",
      "Kemiripan: 98.68%\n",
      "Bot :  Terima kasih atas pertanyaan atau keluhan Anda mengenai fasilitas di sekolah. Untuk informasi lebih lanjut atau bantuan terkait fasilitas sekolah, Anda dapat menghubungi Customer Service kami melalui tombol yang tersedia. Jika Anda ingin membuat laporan pengaduan, mohon sertakan deskripsi detail seperti alamat, foto, dan informasi lebih lanjut mengenai kondisi yang Anda alami. Kami akan berusaha membantu Anda secepat mungkin. Terima kasih.\n",
      "Input user: administrasi kecamatan buruk\n",
      "Token input cocok dengan intent: administrasi-sekolah\n",
      "Pola terbaik: administrasi tidak ada kemajuan\n",
      "Kemiripan: 99.02%\n",
      "Bot :  Terima kasih atas pertanyaan atau keluhan Anda. Untuk informasi lebih lanjut atau bantuan terkait administrasi sekolah, Anda dapat mengunjungi sekolah terdekat atau menghubungi Customer Service kami melalui tombol yang tersedia. Jika Anda ingin membuat laporan pengaduan, mohon sertakan deskripsi detail seperti alamat, foto, dan informasi lebih lanjut mengenai kondisi yang Anda alami. Kami akan berusaha membantu Anda secepat mungkin. Terima kasih.\n",
      "Input user: terima kasih\n",
      "Token input cocok dengan intent: terima-kasih\n",
      "Pola terbaik: terima kasih\n",
      "Kemiripan: 100.00%\n",
      "Bot :  Terima kasih kembali, senang membantu Anda. Anda bisa ajukan pertanyaan atau instruksi lain jika masih ingin berinteraksi dengan chatbot Tanggap.\n",
      "masuk break\n"
     ]
    }
   ],
   "source": [
    "while True:\n",
    "    try:\n",
    "        input_user = input(\"You: \")\n",
    "        if input_user in (\"quit\", \"exit\"):\n",
    "            print(\"masuk break\")\n",
    "            break\n",
    "        best_match = match_intent(input_user, intent_data, model)\n",
    "        if best_match is not None:\n",
    "            matched_intent, matched_pattern, similarity = best_match\n",
    "            if similarity >= 0.8:\n",
    "                print(f\"Input user: {input_user}\")\n",
    "                print(f\"Token input cocok dengan intent: {matched_intent['tag']}\")\n",
    "                print(f\"Pola terbaik: {matched_pattern}\")\n",
    "                print(f\"Kemiripan: {similarity * 100:.2f}%\")\n",
    "                print(\"Bot : \", random.choice(matched_intent['response']))\n",
    "            else:\n",
    "                print(\"Mohon maaf chatbot tidak mengerti instruksi dari anda. Mohon berikan instruksi ulang atau berikan instruksi lain.\")\n",
    "        else:\n",
    "            print(\"Mohon maaf chatbot tidak mengerti instruksi dari anda. Mohon berikan instruksi ulang atau berikan instruksi lain.\")\n",
    "    except Exception as e:\n",
    "        print(\"Terjadi kesalahan:\", e)"
   ]
  }
 ],
 "metadata": {
  "kernelspec": {
   "display_name": "Python 3",
   "language": "python",
   "name": "python3"
  },
  "language_info": {
   "codemirror_mode": {
    "name": "ipython",
    "version": 3
   },
   "file_extension": ".py",
   "mimetype": "text/x-python",
   "name": "python",
   "nbconvert_exporter": "python",
   "pygments_lexer": "ipython3",
   "version": "3.12.1"
  }
 },
 "nbformat": 4,
 "nbformat_minor": 2
}
