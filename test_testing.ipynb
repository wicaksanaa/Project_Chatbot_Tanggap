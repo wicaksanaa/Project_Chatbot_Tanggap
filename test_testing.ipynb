{
 "cells": [
  {
   "cell_type": "code",
   "execution_count": 1,
   "metadata": {},
   "outputs": [],
   "source": [
    "import torch\n",
    "import json\n",
    "from transformers import AutoTokenizer, AutoModelForSequenceClassification\n",
    "import random"
   ]
  },
  {
   "cell_type": "code",
   "execution_count": 2,
   "metadata": {},
   "outputs": [],
   "source": [
    "# Memuat tokenizer dan model dari direktori tempat Anda menyimpannya\n",
    "model_dir = './trained_model'\n",
    "tokenizer = AutoTokenizer.from_pretrained(model_dir)\n",
    "model = AutoModelForSequenceClassification.from_pretrained(model_dir)"
   ]
  },
  {
   "cell_type": "code",
   "execution_count": 4,
   "metadata": {},
   "outputs": [],
   "source": [
    "# Fungsi untuk memprediksi intent\n",
    "def predict_intent(text, tokenizer, model, id_to_label):\n",
    "    # Tokenisasi input pengguna\n",
    "    inputs = tokenizer(text, return_tensors='pt', padding=True, truncation=True, max_length=128)\n",
    "\n",
    "    # Melakukan prediksi\n",
    "    outputs = model(**inputs)\n",
    "\n",
    "    # Mengambil prediksi dengan skor tertinggi\n",
    "    logits = outputs.logits\n",
    "    predicted_class_id = torch.argmax(logits, dim=1).item()\n",
    "\n",
    "    # Mendapatkan label intent dari id prediksi\n",
    "    predicted_label = id_to_label[predicted_class_id]\n",
    "\n",
    "    return predicted_label"
   ]
  },
  {
   "cell_type": "code",
   "execution_count": 5,
   "metadata": {},
   "outputs": [],
   "source": [
    "# Load intent data to map label id to intent tag\n",
    "def load_intent_data(file_path):\n",
    "    with open(file_path, 'r') as file:\n",
    "        data = json.load(file)\n",
    "    return data"
   ]
  },
  {
   "cell_type": "code",
   "execution_count": 6,
   "metadata": {},
   "outputs": [],
   "source": [
    "intent_data = load_intent_data('Dataset Chatbot.json')\n",
    "unique_labels = list(set(intent['tag'] for intent in intent_data['intents']))\n",
    "id_to_label = {i: label for i, label in enumerate(unique_labels)}\n"
   ]
  },
  {
   "cell_type": "code",
   "execution_count": 18,
   "metadata": {},
   "outputs": [],
   "source": [
    "# Input dari pengguna\n",
    "input_text = \"Apa itu aplikasi Tanggap\""
   ]
  },
  {
   "cell_type": "code",
   "execution_count": 19,
   "metadata": {},
   "outputs": [],
   "source": [
    "# Prediksi intent\n",
    "predicted_intent = predict_intent(input_text, tokenizer, model, id_to_label)"
   ]
  },
  {
   "cell_type": "code",
   "execution_count": 20,
   "metadata": {},
   "outputs": [
    {
     "name": "stdout",
     "output_type": "stream",
     "text": [
      "Intent yang diprediksi: pengaduan-kedisiplinan-sekolah\n",
      "Respon chatbot: Terima kasih atas pengaduan Anda terkait masalah kedisiplinan di sekolah. Kami akan segera menindaklanjuti laporan ini dengan memberikan deskripsi lengkap mengenai masalah yang Anda temui, termasuk alamat, foto, dan kondisi yang Anda alami. Kami sangat menghargai kerjasama Anda dalam menjaga ketertiban dan keamanan lingkungan belajar. Jika Anda memiliki informasi tambahan atau memerlukan bantuan lebih lanjut, jangan ragu untuk menghubungi kami. Terima kasih.\n"
     ]
    }
   ],
   "source": [
    "# Menampilkan hasil prediksi dan respon chatbot\n",
    "for intent in intent_data['intents']:\n",
    "    if intent['tag'] == predicted_intent:\n",
    "        if 'response' in intent:\n",
    "            response = random.choice(intent['response'])\n",
    "            print(f\"Intent yang diprediksi: {predicted_intent}\")\n",
    "            print(f\"Respon chatbot: {response}\")\n",
    "        break"
   ]
  }
 ],
 "metadata": {
  "kernelspec": {
   "display_name": "Python 3",
   "language": "python",
   "name": "python3"
  },
  "language_info": {
   "codemirror_mode": {
    "name": "ipython",
    "version": 3
   },
   "file_extension": ".py",
   "mimetype": "text/x-python",
   "name": "python",
   "nbconvert_exporter": "python",
   "pygments_lexer": "ipython3",
   "version": "3.12.1"
  }
 },
 "nbformat": 4,
 "nbformat_minor": 2
}
