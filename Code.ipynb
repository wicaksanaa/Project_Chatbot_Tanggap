{
  "cells": [
    {
      "cell_type": "code",
      "execution_count": 1,
      "metadata": {
        "id": "8_iLN0KKfM18"
      },
      "outputs": [],
      "source": [
        "import re\n",
        "import string\n",
        "import json\n",
        "from functools import lru_cache\n",
        "import torch\n",
        "import random\n",
        "from transformers import AutoTokenizer, AutoModel\n",
        "from sklearn.metrics.pairwise import cosine_similarity\n",
        "from sentence_transformers import evaluation\n",
        "from sentence_transformers import util\n",
        "from torch.utils.data import DataLoader\n",
        "from sentence_transformers import SentenceTransformer, SentencesDataset, InputExample, losses"
      ]
    },
    {
      "cell_type": "code",
      "execution_count": 2,
      "metadata": {
        "colab": {
          "base_uri": "https://localhost:8080/"
        },
        "id": "8OGsFVsIfM19",
        "outputId": "cfa3177f-ec23-4f6d-9bae-1115e6819031"
      },
      "outputs": [],
      "source": [
        "class TokenSimilarity:\n",
        "\n",
        "    def load_pretrained(self, from_pretrained: str = \"indobenchmark/indobert-base-p1\"):\n",
        "        self.tokenizer = AutoTokenizer.from_pretrained(from_pretrained)\n",
        "        self.model = AutoModel.from_pretrained(from_pretrained)\n",
        "\n",
        "    def __cleaning(self, text: str):\n",
        "        # Bersihkan tanda baca\n",
        "        text = text.translate(str.maketrans('', '', string.punctuation))\n",
        "\n",
        "        # Bersihkan spasi ganda\n",
        "        text = re.sub(r'\\s+', ' ', text).strip()\n",
        "\n",
        "        return text\n",
        "\n",
        "    def __process(self, first_token: str, second_token: str):\n",
        "        inputs = self.tokenizer([first_token, second_token],\n",
        "                                max_length=self.max_length,\n",
        "                                truncation=self.truncation,\n",
        "                                padding=self.padding,\n",
        "                                return_tensors='pt')\n",
        "\n",
        "        attention = inputs['attention_mask']\n",
        "\n",
        "        outputs = self.model(**inputs)\n",
        "\n",
        "        # Dapatkan bobot dari lapisan terakhir sebagai embeddings\n",
        "        embeddings = outputs[0]\n",
        "\n",
        "        # Tambahkan dimensi lebih lalu perluas tensor\n",
        "        mask = attention.unsqueeze(-1).expand(embeddings.shape).float()\n",
        "\n",
        "        masked_embeddings = embeddings * mask\n",
        "\n",
        "        # MEAN POOLING UNTUK DIMENSI KE-2\n",
        "        summed = masked_embeddings.sum(1)\n",
        "        counts = torch.clamp(mask.sum(1), min=1e-9)\n",
        "        mean_pooled = summed / counts\n",
        "\n",
        "        # Kembalikan mean pooling sebagai array numpy\n",
        "        return mean_pooled.detach().numpy()\n",
        "\n",
        "    def predict(self, first_token: str, second_token: str,\n",
        "                return_as_embeddings: bool = False, max_length: int = 16,\n",
        "                truncation: bool = True, padding: str = \"max_length\"):\n",
        "        self.max_length = max_length\n",
        "        self.truncation = truncation\n",
        "        self.padding = padding\n",
        "\n",
        "        first_token = self.__cleaning(first_token)\n",
        "        second_token = self.__cleaning(second_token)\n",
        "\n",
        "        mean_pooled_arr = self.__process(first_token, second_token)\n",
        "        if return_as_embeddings:\n",
        "            return mean_pooled_arr\n",
        "\n",
        "        # Hitung kemiripan\n",
        "        similarity = cosine_similarity([mean_pooled_arr[0]], [mean_pooled_arr[1]])\n",
        "\n",
        "        return similarity\n",
        "\n",
        "model = TokenSimilarity()\n",
        "model.load_pretrained('indobenchmark/indobert-base-p1')"
      ]
    },
    {
      "cell_type": "code",
      "execution_count": 3,
      "metadata": {
        "id": "0XH1gNS4fM1-"
      },
      "outputs": [],
      "source": [
        "# Load intent data\n",
        "def load_intent_data(file_path):\n",
        "    with open(file_path, 'r') as file:\n",
        "        data = json.load(file)\n",
        "    return data\n",
        "\n",
        "intent_data = load_intent_data('Dataset Chatbot.json')"
      ]
    },
    {
      "cell_type": "code",
      "execution_count": 4,
      "metadata": {
        "id": "QkawTxc5fM1_"
      },
      "outputs": [],
      "source": [
        "# Training data\n",
        "train_examples = [InputExample(texts=[pattern], label=intent['tag']) for intent in intent_data['intents'] for pattern in intent['patterns']]\n",
        "\n",
        "# Model \"use-moments\" (base model)\n",
        "model = SentenceTransformer('paraphrase-MiniLM-L6-v2')"
      ]
    },
    {
      "cell_type": "code",
      "execution_count": 5,
      "metadata": {
        "id": "V7kEqsXqfM1_"
      },
      "outputs": [],
      "source": [
        "# Mapping antara tag dan label numerik\n",
        "tag_to_label = {intent['tag']: idx for idx, intent in enumerate(intent_data['intents'])}\n",
        "input_token = \"\"\n",
        "\n",
        "def training_data(input_token):\n",
        "\n",
        "    # Training data\n",
        "    train_examples = []\n",
        "    for intent in intent_data['intents']:\n",
        "        for pattern in intent['patterns']:\n",
        "                label = tag_to_label[intent['tag']]   # Mengonversi tag menjadi label numerik\n",
        "                train_examples.append(InputExample(texts=[pattern, input_token], label=float(label))) # Mengonversi label ke float\n",
        "\n",
        "    # Create a model\n",
        "    model = SentenceTransformer('paraphrase-MiniLM-L6-v2')\n",
        "\n",
        "    # Define a batch size\n",
        "    batch_size = 32\n",
        "\n",
        "    # Define a dataloader\n",
        "    train_dataloader = DataLoader(train_examples, shuffle=True, batch_size=batch_size)\n",
        "\n",
        "    # Define a loss function\n",
        "    train_loss = losses.CosineSimilarityLoss(model)\n",
        "\n",
        "    # Training the model\n",
        "    model.fit(train_objectives=[(train_dataloader, train_loss)], epochs=2)\n",
        "\n",
        "    return input_token"
      ]
    },
    {
      "cell_type": "code",
      "execution_count": 6,
      "metadata": {
        "id": "X2p0Jm2nfM2A"
      },
      "outputs": [],
      "source": [
        "def match_intent(input_token, intent_data):\n",
        "    input_embeddings = model.encode(input_token, convert_to_tensor=True)\n",
        "\n",
        "    best_match = None\n",
        "    best_similarity = -1  # Perhatikan bahwa similarity akan menjadi nilai -1 hingga 1.\n",
        "\n",
        "    for intent in intent_data['intents']:\n",
        "        for pattern in intent['patterns']:\n",
        "            pattern_embedding = model.encode(pattern, convert_to_tensor=True)\n",
        "            similarity = util.pytorch_cos_sim(input_embeddings, pattern_embedding)[0].item()\n",
        "\n",
        "            if similarity > best_similarity:\n",
        "                best_similarity = similarity\n",
        "                best_match = (intent, pattern, similarity)\n",
        "\n",
        "    return best_match"
      ]
    },
    {
      "cell_type": "code",
      "execution_count": 9,
      "metadata": {
        "colab": {
          "base_uri": "https://localhost:8080/",
          "height": 255,
          "referenced_widgets": [
            "e8fc5ced843d4b349545640cbcd27695",
            "96698af495b241a0b3c5fe4a23d0a68c",
            "83a5e700b25f494c9e9e0f9db0894806",
            "a01b898f9eb04fa681955335c219fecb",
            "3e91614b31d4416a9aa659d24c631283",
            "9f91a05f96b345c9bf34160d1908ffb8",
            "1a0d264f066c4737a3729f4aa197c730",
            "04239b1e09624a9195cc47197a86590b",
            "8827e3623177432ca44a6d7f02d53f07",
            "680c800a23ca493c8900b48720c1cc97",
            "cd5f1a3b1b5e4c7398aef966911633ee",
            "97b997989f8f47658dbed3f08699fd13",
            "e1872906fdfb465ca88b6596cdf1e176",
            "32a92c291afb4a059523c2fa23e9632e",
            "e435d13c85ca4814bd75399a1f442616",
            "5d13d7a9bfb64debb6ab723dd9bb3f0c",
            "884c17e0de984e84b754ccdb7b465951",
            "d8fbb242064b4438a47f6b345bf5404e",
            "6d67d2cf84b94606864c8bd42b223aaa",
            "512cf49c7138451aa11f40fb2fa983e9",
            "6afdedbad22f48239f84bec5a7f5ba76",
            "ce550188913348bc8c1d31d19173745a",
            "d6ebadbc98c94384a48f1f21f0922321",
            "861c397e0b70407ea46f26f3360c0fc0",
            "425df46ab9974c7a990b84b2d952bf06",
            "dfe14048e7ea484ba50249da947ce570",
            "537805028c4a4500bd6dcbee7d12849c",
            "7e9c53b9fc374860b07deb953eba4a9c",
            "cbbda50ba7e54463903dcbedc76c0033",
            "96b6adf759ac409eb0b39fb52e09ceb9",
            "c23f4ac0dd46409ea1e511dbeff51396",
            "1a6dc99330d247d0a029e176cbc773d7",
            "56a0557abf114d42baa557e1264b0955"
          ]
        },
        "id": "dO8s_v2FfM2C",
        "outputId": "cf3c53d3-6937-477a-d99b-96fd8e29eaf1"
      },
      "outputs": [
        {
          "data": {
            "application/vnd.jupyter.widget-view+json": {
              "model_id": "31c59b21d6a04c53aa11038fe4677360",
              "version_major": 2,
              "version_minor": 0
            },
            "text/plain": [
              "Epoch:   0%|          | 0/2 [00:00<?, ?it/s]"
            ]
          },
          "metadata": {},
          "output_type": "display_data"
        },
        {
          "data": {
            "application/vnd.jupyter.widget-view+json": {
              "model_id": "2e219a1aeb7d46b283705417caad6fe3",
              "version_major": 2,
              "version_minor": 0
            },
            "text/plain": [
              "Iteration:   0%|          | 0/25 [00:00<?, ?it/s]"
            ]
          },
          "metadata": {},
          "output_type": "display_data"
        },
        {
          "data": {
            "application/vnd.jupyter.widget-view+json": {
              "model_id": "92ace2d749cd4d4bb023ea6b459c332f",
              "version_major": 2,
              "version_minor": 0
            },
            "text/plain": [
              "Iteration:   0%|          | 0/25 [00:00<?, ?it/s]"
            ]
          },
          "metadata": {},
          "output_type": "display_data"
        },
        {
          "name": "stdout",
          "output_type": "stream",
          "text": [
            "Input user: apa itu aplikasi tanggap?\n",
            "Token input cocok dengan intent: Aplikasi-Tanggap\n",
            "Pola terbaik: Apa itu Aplikasi Tanggap?\n",
            "Kemiripan: 100.00%\n",
            "Bot :  Aplikasi Tanggap adalah sarana pengaduan masyarakat terhadap suatu masalah. Dengan aplikasi ini, Anda bisa melaporkan berbagai permasalahan yang dihadapi dan mendapatkan solusi atau tindak lanjut dari pihak berwenang.\n"
          ]
        },
        {
          "data": {
            "application/vnd.jupyter.widget-view+json": {
              "model_id": "2debcb49aef447109ebdddebbbeacf75",
              "version_major": 2,
              "version_minor": 0
            },
            "text/plain": [
              "Epoch:   0%|          | 0/2 [00:00<?, ?it/s]"
            ]
          },
          "metadata": {},
          "output_type": "display_data"
        },
        {
          "data": {
            "application/vnd.jupyter.widget-view+json": {
              "model_id": "fa3d5722d77e4941be16dcef186acc59",
              "version_major": 2,
              "version_minor": 0
            },
            "text/plain": [
              "Iteration:   0%|          | 0/25 [00:00<?, ?it/s]"
            ]
          },
          "metadata": {},
          "output_type": "display_data"
        },
        {
          "data": {
            "application/vnd.jupyter.widget-view+json": {
              "model_id": "fe26836d008c4376bef07e3344840244",
              "version_major": 2,
              "version_minor": 0
            },
            "text/plain": [
              "Iteration:   0%|          | 0/25 [00:00<?, ?it/s]"
            ]
          },
          "metadata": {},
          "output_type": "display_data"
        },
        {
          "name": "stdout",
          "output_type": "stream",
          "text": [
            "Input user: saya mendapati ada jalan rusak dekat rumah saya\n",
            "Token input cocok dengan intent: pengaduan-jalan-rusak\n",
            "Pola terbaik: Ada jalan rusak depan rumah saya\n",
            "Kemiripan: 87.95%\n",
            "Bot :  Mohon maaf atas pengalaman buruk jalan rusak yang anda alami. Anda bisa membuat laporan pengaduan pada bagian pengaduan dengan memilih kategori infrastruktur, dan memberikan deskripsi aduan berupa alamat, foto, dan detail lebih mengenai kondisi jalan yang rusak. Terima Kasih\n"
          ]
        },
        {
          "data": {
            "application/vnd.jupyter.widget-view+json": {
              "model_id": "4dc43c9ebf944d33a8a180341fa44d4b",
              "version_major": 2,
              "version_minor": 0
            },
            "text/plain": [
              "Epoch:   0%|          | 0/2 [00:00<?, ?it/s]"
            ]
          },
          "metadata": {},
          "output_type": "display_data"
        },
        {
          "data": {
            "application/vnd.jupyter.widget-view+json": {
              "model_id": "0fb47dba27f84a67b1e8457ec966ccb5",
              "version_major": 2,
              "version_minor": 0
            },
            "text/plain": [
              "Iteration:   0%|          | 0/25 [00:00<?, ?it/s]"
            ]
          },
          "metadata": {},
          "output_type": "display_data"
        },
        {
          "data": {
            "application/vnd.jupyter.widget-view+json": {
              "model_id": "073c59298f1347f68fc01bafc241976f",
              "version_major": 2,
              "version_minor": 0
            },
            "text/plain": [
              "Iteration:   0%|          | 0/25 [00:00<?, ?it/s]"
            ]
          },
          "metadata": {},
          "output_type": "display_data"
        },
        {
          "name": "stdout",
          "output_type": "stream",
          "text": [
            "Input user: fasilitas rumah sakit jelek sekali\n",
            "Token input cocok dengan intent: administrasi-rumah-sakit\n",
            "Pola terbaik: Bagaimana cara mengurus surat keterangan sehat di rumah sakit?\n",
            "Kemiripan: 72.92%\n",
            "Bot :  Mohon maaf atas kendala yang Anda alami dalam pelayanan administrasi rumah sakit. Untuk memberikan bantuan lebih lanjut, mohon berikan deskripsi aduan berupa alamat, foto, dan detail lebih mengenai kondisi yang sedang dialami.Terima kasih atas pengertiannya.\n"
          ]
        },
        {
          "data": {
            "application/vnd.jupyter.widget-view+json": {
              "model_id": "46945b436620481d87dde0619502c310",
              "version_major": 2,
              "version_minor": 0
            },
            "text/plain": [
              "Epoch:   0%|          | 0/2 [00:00<?, ?it/s]"
            ]
          },
          "metadata": {},
          "output_type": "display_data"
        },
        {
          "data": {
            "application/vnd.jupyter.widget-view+json": {
              "model_id": "7ce831e8bf9345f7983670f8e720aa5d",
              "version_major": 2,
              "version_minor": 0
            },
            "text/plain": [
              "Iteration:   0%|          | 0/25 [00:00<?, ?it/s]"
            ]
          },
          "metadata": {},
          "output_type": "display_data"
        },
        {
          "data": {
            "application/vnd.jupyter.widget-view+json": {
              "model_id": "9614982aeb654a22a405ba43c3ddfe61",
              "version_major": 2,
              "version_minor": 0
            },
            "text/plain": [
              "Iteration:   0%|          | 0/25 [00:00<?, ?it/s]"
            ]
          },
          "metadata": {},
          "output_type": "display_data"
        },
        {
          "name": "stdout",
          "output_type": "stream",
          "text": [
            "Input user: Biaya UKT kuliah saya kenapa mahal sekali \n",
            "Token input cocok dengan intent: Suap\n",
            "Pola terbaik: Saya melihat seseorang memberikan hadiah mahal kepada pejabat untuk memenangkan kontrak.\n",
            "Kemiripan: 69.40%\n",
            "Bot :  Terima kasih telah menghubungi kami. Suap adalah tindakan ilegal yang merugikan integritas sistem. Untuk melaporkan praktik suap, mohon sertakan informasi detail seperti nama, waktu, dan tempat kejadian, serta deskripsi spesifik dari tindakan yang Anda curigai. Informasi ini sangat penting untuk proses investigasi kami.\n"
          ]
        },
        {
          "data": {
            "application/vnd.jupyter.widget-view+json": {
              "model_id": "c09c9f0fc7f04e5c94640c0b47259a44",
              "version_major": 2,
              "version_minor": 0
            },
            "text/plain": [
              "Epoch:   0%|          | 0/2 [00:00<?, ?it/s]"
            ]
          },
          "metadata": {},
          "output_type": "display_data"
        },
        {
          "data": {
            "application/vnd.jupyter.widget-view+json": {
              "model_id": "be3012a8aac24a31aa3b5f4613ea7f12",
              "version_major": 2,
              "version_minor": 0
            },
            "text/plain": [
              "Iteration:   0%|          | 0/25 [00:00<?, ?it/s]"
            ]
          },
          "metadata": {},
          "output_type": "display_data"
        },
        {
          "data": {
            "application/vnd.jupyter.widget-view+json": {
              "model_id": "c7a55023fe91418895724a1ff230744c",
              "version_major": 2,
              "version_minor": 0
            },
            "text/plain": [
              "Iteration:   0%|          | 0/25 [00:00<?, ?it/s]"
            ]
          },
          "metadata": {},
          "output_type": "display_data"
        },
        {
          "name": "stdout",
          "output_type": "stream",
          "text": [
            "Input user: fasilitas sekolah jelek, banyak perabotan rusak\n",
            "Token input cocok dengan intent: pengaduan-fasilitas-sekolah\n",
            "Pola terbaik: Fasilitas olahraga di sekolah ini rusak\n",
            "Kemiripan: 77.66%\n",
            "Bot :  Terima kasih atas pertanyaan Anda mengenai pengaduan fasilitas di lingkungan sekolah. Kami mohon maaf atas pengalaman tidak menyenangkan yang Anda alami. Untuk mengajukan laporan pengaduan, silakan berikan deskripsi lengkap mengenai masalah yang Anda hadapi, termasuk alamat, foto, dan kondisi yang Anda alami di lingkungan sekolah. Terima kasih\n",
            "masuk break\n"
          ]
        }
      ],
      "source": [
        "while True:\n",
        "    try:\n",
        "        input_user = input(\"You: \")\n",
        "        if input_user in (\"quit\", \"exit\"):\n",
        "            print(\"masuk break\")\n",
        "            break\n",
        "        train = training_data(input_user)\n",
        "        best_match = match_intent(train, intent_data)\n",
        "        if best_match is not None:\n",
        "                matched_intent, matched_pattern, similarity = best_match\n",
        "                print(f\"Input user: {input_user}\")\n",
        "                print(f\"Token input cocok dengan intent: {matched_intent['tag']}\")\n",
        "                print(f\"Pola terbaik: {matched_pattern}\")\n",
        "                print(f\"Kemiripan: {similarity * 100:.2f}%\")\n",
        "                print(\"Bot : \",random.choice(matched_intent['response']))\n",
        "        else:\n",
        "                print(\"Harap berikan pertanyaan yang jelas.\")\n",
        "    except Exception as e:\n",
        "        print(\"Terjadi kesalahan:\", e)\n"
      ]
    }
  ],
  "metadata": {
    "accelerator": "GPU",
    "colab": {
      "gpuType": "T4",
      "provenance": []
    },
    "kernelspec": {
      "display_name": "Python 3",
      "name": "python3"
    },
    "language_info": {
      "codemirror_mode": {
        "name": "ipython",
        "version": 3
      },
      "file_extension": ".py",
      "mimetype": "text/x-python",
      "name": "python",
      "nbconvert_exporter": "python",
      "pygments_lexer": "ipython3",
      "version": "3.12.1"
    },
    "widgets": {
      "application/vnd.jupyter.widget-state+json": {
        "04239b1e09624a9195cc47197a86590b": {
          "model_module": "@jupyter-widgets/base",
          "model_module_version": "1.2.0",
          "model_name": "LayoutModel",
          "state": {
            "_model_module": "@jupyter-widgets/base",
            "_model_module_version": "1.2.0",
            "_model_name": "LayoutModel",
            "_view_count": null,
            "_view_module": "@jupyter-widgets/base",
            "_view_module_version": "1.2.0",
            "_view_name": "LayoutView",
            "align_content": null,
            "align_items": null,
            "align_self": null,
            "border": null,
            "bottom": null,
            "display": null,
            "flex": null,
            "flex_flow": null,
            "grid_area": null,
            "grid_auto_columns": null,
            "grid_auto_flow": null,
            "grid_auto_rows": null,
            "grid_column": null,
            "grid_gap": null,
            "grid_row": null,
            "grid_template_areas": null,
            "grid_template_columns": null,
            "grid_template_rows": null,
            "height": null,
            "justify_content": null,
            "justify_items": null,
            "left": null,
            "margin": null,
            "max_height": null,
            "max_width": null,
            "min_height": null,
            "min_width": null,
            "object_fit": null,
            "object_position": null,
            "order": null,
            "overflow": null,
            "overflow_x": null,
            "overflow_y": null,
            "padding": null,
            "right": null,
            "top": null,
            "visibility": null,
            "width": null
          }
        },
        "1a0d264f066c4737a3729f4aa197c730": {
          "model_module": "@jupyter-widgets/controls",
          "model_module_version": "1.5.0",
          "model_name": "DescriptionStyleModel",
          "state": {
            "_model_module": "@jupyter-widgets/controls",
            "_model_module_version": "1.5.0",
            "_model_name": "DescriptionStyleModel",
            "_view_count": null,
            "_view_module": "@jupyter-widgets/base",
            "_view_module_version": "1.2.0",
            "_view_name": "StyleView",
            "description_width": ""
          }
        },
        "1a6dc99330d247d0a029e176cbc773d7": {
          "model_module": "@jupyter-widgets/base",
          "model_module_version": "1.2.0",
          "model_name": "LayoutModel",
          "state": {
            "_model_module": "@jupyter-widgets/base",
            "_model_module_version": "1.2.0",
            "_model_name": "LayoutModel",
            "_view_count": null,
            "_view_module": "@jupyter-widgets/base",
            "_view_module_version": "1.2.0",
            "_view_name": "LayoutView",
            "align_content": null,
            "align_items": null,
            "align_self": null,
            "border": null,
            "bottom": null,
            "display": null,
            "flex": null,
            "flex_flow": null,
            "grid_area": null,
            "grid_auto_columns": null,
            "grid_auto_flow": null,
            "grid_auto_rows": null,
            "grid_column": null,
            "grid_gap": null,
            "grid_row": null,
            "grid_template_areas": null,
            "grid_template_columns": null,
            "grid_template_rows": null,
            "height": null,
            "justify_content": null,
            "justify_items": null,
            "left": null,
            "margin": null,
            "max_height": null,
            "max_width": null,
            "min_height": null,
            "min_width": null,
            "object_fit": null,
            "object_position": null,
            "order": null,
            "overflow": null,
            "overflow_x": null,
            "overflow_y": null,
            "padding": null,
            "right": null,
            "top": null,
            "visibility": null,
            "width": null
          }
        },
        "32a92c291afb4a059523c2fa23e9632e": {
          "model_module": "@jupyter-widgets/controls",
          "model_module_version": "1.5.0",
          "model_name": "FloatProgressModel",
          "state": {
            "_dom_classes": [],
            "_model_module": "@jupyter-widgets/controls",
            "_model_module_version": "1.5.0",
            "_model_name": "FloatProgressModel",
            "_view_count": null,
            "_view_module": "@jupyter-widgets/controls",
            "_view_module_version": "1.5.0",
            "_view_name": "ProgressView",
            "bar_style": "success",
            "description": "",
            "description_tooltip": null,
            "layout": "IPY_MODEL_6d67d2cf84b94606864c8bd42b223aaa",
            "max": 12,
            "min": 0,
            "orientation": "horizontal",
            "style": "IPY_MODEL_512cf49c7138451aa11f40fb2fa983e9",
            "value": 12
          }
        },
        "3e91614b31d4416a9aa659d24c631283": {
          "model_module": "@jupyter-widgets/base",
          "model_module_version": "1.2.0",
          "model_name": "LayoutModel",
          "state": {
            "_model_module": "@jupyter-widgets/base",
            "_model_module_version": "1.2.0",
            "_model_name": "LayoutModel",
            "_view_count": null,
            "_view_module": "@jupyter-widgets/base",
            "_view_module_version": "1.2.0",
            "_view_name": "LayoutView",
            "align_content": null,
            "align_items": null,
            "align_self": null,
            "border": null,
            "bottom": null,
            "display": null,
            "flex": null,
            "flex_flow": null,
            "grid_area": null,
            "grid_auto_columns": null,
            "grid_auto_flow": null,
            "grid_auto_rows": null,
            "grid_column": null,
            "grid_gap": null,
            "grid_row": null,
            "grid_template_areas": null,
            "grid_template_columns": null,
            "grid_template_rows": null,
            "height": null,
            "justify_content": null,
            "justify_items": null,
            "left": null,
            "margin": null,
            "max_height": null,
            "max_width": null,
            "min_height": null,
            "min_width": null,
            "object_fit": null,
            "object_position": null,
            "order": null,
            "overflow": null,
            "overflow_x": null,
            "overflow_y": null,
            "padding": null,
            "right": null,
            "top": null,
            "visibility": null,
            "width": null
          }
        },
        "425df46ab9974c7a990b84b2d952bf06": {
          "model_module": "@jupyter-widgets/controls",
          "model_module_version": "1.5.0",
          "model_name": "FloatProgressModel",
          "state": {
            "_dom_classes": [],
            "_model_module": "@jupyter-widgets/controls",
            "_model_module_version": "1.5.0",
            "_model_name": "FloatProgressModel",
            "_view_count": null,
            "_view_module": "@jupyter-widgets/controls",
            "_view_module_version": "1.5.0",
            "_view_name": "ProgressView",
            "bar_style": "success",
            "description": "",
            "description_tooltip": null,
            "layout": "IPY_MODEL_96b6adf759ac409eb0b39fb52e09ceb9",
            "max": 12,
            "min": 0,
            "orientation": "horizontal",
            "style": "IPY_MODEL_c23f4ac0dd46409ea1e511dbeff51396",
            "value": 12
          }
        },
        "512cf49c7138451aa11f40fb2fa983e9": {
          "model_module": "@jupyter-widgets/controls",
          "model_module_version": "1.5.0",
          "model_name": "ProgressStyleModel",
          "state": {
            "_model_module": "@jupyter-widgets/controls",
            "_model_module_version": "1.5.0",
            "_model_name": "ProgressStyleModel",
            "_view_count": null,
            "_view_module": "@jupyter-widgets/base",
            "_view_module_version": "1.2.0",
            "_view_name": "StyleView",
            "bar_color": null,
            "description_width": ""
          }
        },
        "537805028c4a4500bd6dcbee7d12849c": {
          "model_module": "@jupyter-widgets/base",
          "model_module_version": "1.2.0",
          "model_name": "LayoutModel",
          "state": {
            "_model_module": "@jupyter-widgets/base",
            "_model_module_version": "1.2.0",
            "_model_name": "LayoutModel",
            "_view_count": null,
            "_view_module": "@jupyter-widgets/base",
            "_view_module_version": "1.2.0",
            "_view_name": "LayoutView",
            "align_content": null,
            "align_items": null,
            "align_self": null,
            "border": null,
            "bottom": null,
            "display": null,
            "flex": null,
            "flex_flow": null,
            "grid_area": null,
            "grid_auto_columns": null,
            "grid_auto_flow": null,
            "grid_auto_rows": null,
            "grid_column": null,
            "grid_gap": null,
            "grid_row": null,
            "grid_template_areas": null,
            "grid_template_columns": null,
            "grid_template_rows": null,
            "height": null,
            "justify_content": null,
            "justify_items": null,
            "left": null,
            "margin": null,
            "max_height": null,
            "max_width": null,
            "min_height": null,
            "min_width": null,
            "object_fit": null,
            "object_position": null,
            "order": null,
            "overflow": null,
            "overflow_x": null,
            "overflow_y": null,
            "padding": null,
            "right": null,
            "top": null,
            "visibility": null,
            "width": null
          }
        },
        "56a0557abf114d42baa557e1264b0955": {
          "model_module": "@jupyter-widgets/controls",
          "model_module_version": "1.5.0",
          "model_name": "DescriptionStyleModel",
          "state": {
            "_model_module": "@jupyter-widgets/controls",
            "_model_module_version": "1.5.0",
            "_model_name": "DescriptionStyleModel",
            "_view_count": null,
            "_view_module": "@jupyter-widgets/base",
            "_view_module_version": "1.2.0",
            "_view_name": "StyleView",
            "description_width": ""
          }
        },
        "5d13d7a9bfb64debb6ab723dd9bb3f0c": {
          "model_module": "@jupyter-widgets/base",
          "model_module_version": "1.2.0",
          "model_name": "LayoutModel",
          "state": {
            "_model_module": "@jupyter-widgets/base",
            "_model_module_version": "1.2.0",
            "_model_name": "LayoutModel",
            "_view_count": null,
            "_view_module": "@jupyter-widgets/base",
            "_view_module_version": "1.2.0",
            "_view_name": "LayoutView",
            "align_content": null,
            "align_items": null,
            "align_self": null,
            "border": null,
            "bottom": null,
            "display": null,
            "flex": null,
            "flex_flow": null,
            "grid_area": null,
            "grid_auto_columns": null,
            "grid_auto_flow": null,
            "grid_auto_rows": null,
            "grid_column": null,
            "grid_gap": null,
            "grid_row": null,
            "grid_template_areas": null,
            "grid_template_columns": null,
            "grid_template_rows": null,
            "height": null,
            "justify_content": null,
            "justify_items": null,
            "left": null,
            "margin": null,
            "max_height": null,
            "max_width": null,
            "min_height": null,
            "min_width": null,
            "object_fit": null,
            "object_position": null,
            "order": null,
            "overflow": null,
            "overflow_x": null,
            "overflow_y": null,
            "padding": null,
            "right": null,
            "top": null,
            "visibility": null,
            "width": null
          }
        },
        "680c800a23ca493c8900b48720c1cc97": {
          "model_module": "@jupyter-widgets/base",
          "model_module_version": "1.2.0",
          "model_name": "LayoutModel",
          "state": {
            "_model_module": "@jupyter-widgets/base",
            "_model_module_version": "1.2.0",
            "_model_name": "LayoutModel",
            "_view_count": null,
            "_view_module": "@jupyter-widgets/base",
            "_view_module_version": "1.2.0",
            "_view_name": "LayoutView",
            "align_content": null,
            "align_items": null,
            "align_self": null,
            "border": null,
            "bottom": null,
            "display": null,
            "flex": null,
            "flex_flow": null,
            "grid_area": null,
            "grid_auto_columns": null,
            "grid_auto_flow": null,
            "grid_auto_rows": null,
            "grid_column": null,
            "grid_gap": null,
            "grid_row": null,
            "grid_template_areas": null,
            "grid_template_columns": null,
            "grid_template_rows": null,
            "height": null,
            "justify_content": null,
            "justify_items": null,
            "left": null,
            "margin": null,
            "max_height": null,
            "max_width": null,
            "min_height": null,
            "min_width": null,
            "object_fit": null,
            "object_position": null,
            "order": null,
            "overflow": null,
            "overflow_x": null,
            "overflow_y": null,
            "padding": null,
            "right": null,
            "top": null,
            "visibility": null,
            "width": null
          }
        },
        "6afdedbad22f48239f84bec5a7f5ba76": {
          "model_module": "@jupyter-widgets/base",
          "model_module_version": "1.2.0",
          "model_name": "LayoutModel",
          "state": {
            "_model_module": "@jupyter-widgets/base",
            "_model_module_version": "1.2.0",
            "_model_name": "LayoutModel",
            "_view_count": null,
            "_view_module": "@jupyter-widgets/base",
            "_view_module_version": "1.2.0",
            "_view_name": "LayoutView",
            "align_content": null,
            "align_items": null,
            "align_self": null,
            "border": null,
            "bottom": null,
            "display": null,
            "flex": null,
            "flex_flow": null,
            "grid_area": null,
            "grid_auto_columns": null,
            "grid_auto_flow": null,
            "grid_auto_rows": null,
            "grid_column": null,
            "grid_gap": null,
            "grid_row": null,
            "grid_template_areas": null,
            "grid_template_columns": null,
            "grid_template_rows": null,
            "height": null,
            "justify_content": null,
            "justify_items": null,
            "left": null,
            "margin": null,
            "max_height": null,
            "max_width": null,
            "min_height": null,
            "min_width": null,
            "object_fit": null,
            "object_position": null,
            "order": null,
            "overflow": null,
            "overflow_x": null,
            "overflow_y": null,
            "padding": null,
            "right": null,
            "top": null,
            "visibility": null,
            "width": null
          }
        },
        "6d67d2cf84b94606864c8bd42b223aaa": {
          "model_module": "@jupyter-widgets/base",
          "model_module_version": "1.2.0",
          "model_name": "LayoutModel",
          "state": {
            "_model_module": "@jupyter-widgets/base",
            "_model_module_version": "1.2.0",
            "_model_name": "LayoutModel",
            "_view_count": null,
            "_view_module": "@jupyter-widgets/base",
            "_view_module_version": "1.2.0",
            "_view_name": "LayoutView",
            "align_content": null,
            "align_items": null,
            "align_self": null,
            "border": null,
            "bottom": null,
            "display": null,
            "flex": null,
            "flex_flow": null,
            "grid_area": null,
            "grid_auto_columns": null,
            "grid_auto_flow": null,
            "grid_auto_rows": null,
            "grid_column": null,
            "grid_gap": null,
            "grid_row": null,
            "grid_template_areas": null,
            "grid_template_columns": null,
            "grid_template_rows": null,
            "height": null,
            "justify_content": null,
            "justify_items": null,
            "left": null,
            "margin": null,
            "max_height": null,
            "max_width": null,
            "min_height": null,
            "min_width": null,
            "object_fit": null,
            "object_position": null,
            "order": null,
            "overflow": null,
            "overflow_x": null,
            "overflow_y": null,
            "padding": null,
            "right": null,
            "top": null,
            "visibility": null,
            "width": null
          }
        },
        "7e9c53b9fc374860b07deb953eba4a9c": {
          "model_module": "@jupyter-widgets/base",
          "model_module_version": "1.2.0",
          "model_name": "LayoutModel",
          "state": {
            "_model_module": "@jupyter-widgets/base",
            "_model_module_version": "1.2.0",
            "_model_name": "LayoutModel",
            "_view_count": null,
            "_view_module": "@jupyter-widgets/base",
            "_view_module_version": "1.2.0",
            "_view_name": "LayoutView",
            "align_content": null,
            "align_items": null,
            "align_self": null,
            "border": null,
            "bottom": null,
            "display": null,
            "flex": null,
            "flex_flow": null,
            "grid_area": null,
            "grid_auto_columns": null,
            "grid_auto_flow": null,
            "grid_auto_rows": null,
            "grid_column": null,
            "grid_gap": null,
            "grid_row": null,
            "grid_template_areas": null,
            "grid_template_columns": null,
            "grid_template_rows": null,
            "height": null,
            "justify_content": null,
            "justify_items": null,
            "left": null,
            "margin": null,
            "max_height": null,
            "max_width": null,
            "min_height": null,
            "min_width": null,
            "object_fit": null,
            "object_position": null,
            "order": null,
            "overflow": null,
            "overflow_x": null,
            "overflow_y": null,
            "padding": null,
            "right": null,
            "top": null,
            "visibility": null,
            "width": null
          }
        },
        "83a5e700b25f494c9e9e0f9db0894806": {
          "model_module": "@jupyter-widgets/controls",
          "model_module_version": "1.5.0",
          "model_name": "FloatProgressModel",
          "state": {
            "_dom_classes": [],
            "_model_module": "@jupyter-widgets/controls",
            "_model_module_version": "1.5.0",
            "_model_name": "FloatProgressModel",
            "_view_count": null,
            "_view_module": "@jupyter-widgets/controls",
            "_view_module_version": "1.5.0",
            "_view_name": "ProgressView",
            "bar_style": "success",
            "description": "",
            "description_tooltip": null,
            "layout": "IPY_MODEL_04239b1e09624a9195cc47197a86590b",
            "max": 2,
            "min": 0,
            "orientation": "horizontal",
            "style": "IPY_MODEL_8827e3623177432ca44a6d7f02d53f07",
            "value": 2
          }
        },
        "861c397e0b70407ea46f26f3360c0fc0": {
          "model_module": "@jupyter-widgets/controls",
          "model_module_version": "1.5.0",
          "model_name": "HTMLModel",
          "state": {
            "_dom_classes": [],
            "_model_module": "@jupyter-widgets/controls",
            "_model_module_version": "1.5.0",
            "_model_name": "HTMLModel",
            "_view_count": null,
            "_view_module": "@jupyter-widgets/controls",
            "_view_module_version": "1.5.0",
            "_view_name": "HTMLView",
            "description": "",
            "description_tooltip": null,
            "layout": "IPY_MODEL_7e9c53b9fc374860b07deb953eba4a9c",
            "placeholder": "​",
            "style": "IPY_MODEL_cbbda50ba7e54463903dcbedc76c0033",
            "value": "Iteration: 100%"
          }
        },
        "8827e3623177432ca44a6d7f02d53f07": {
          "model_module": "@jupyter-widgets/controls",
          "model_module_version": "1.5.0",
          "model_name": "ProgressStyleModel",
          "state": {
            "_model_module": "@jupyter-widgets/controls",
            "_model_module_version": "1.5.0",
            "_model_name": "ProgressStyleModel",
            "_view_count": null,
            "_view_module": "@jupyter-widgets/base",
            "_view_module_version": "1.2.0",
            "_view_name": "StyleView",
            "bar_color": null,
            "description_width": ""
          }
        },
        "884c17e0de984e84b754ccdb7b465951": {
          "model_module": "@jupyter-widgets/base",
          "model_module_version": "1.2.0",
          "model_name": "LayoutModel",
          "state": {
            "_model_module": "@jupyter-widgets/base",
            "_model_module_version": "1.2.0",
            "_model_name": "LayoutModel",
            "_view_count": null,
            "_view_module": "@jupyter-widgets/base",
            "_view_module_version": "1.2.0",
            "_view_name": "LayoutView",
            "align_content": null,
            "align_items": null,
            "align_self": null,
            "border": null,
            "bottom": null,
            "display": null,
            "flex": null,
            "flex_flow": null,
            "grid_area": null,
            "grid_auto_columns": null,
            "grid_auto_flow": null,
            "grid_auto_rows": null,
            "grid_column": null,
            "grid_gap": null,
            "grid_row": null,
            "grid_template_areas": null,
            "grid_template_columns": null,
            "grid_template_rows": null,
            "height": null,
            "justify_content": null,
            "justify_items": null,
            "left": null,
            "margin": null,
            "max_height": null,
            "max_width": null,
            "min_height": null,
            "min_width": null,
            "object_fit": null,
            "object_position": null,
            "order": null,
            "overflow": null,
            "overflow_x": null,
            "overflow_y": null,
            "padding": null,
            "right": null,
            "top": null,
            "visibility": null,
            "width": null
          }
        },
        "96698af495b241a0b3c5fe4a23d0a68c": {
          "model_module": "@jupyter-widgets/controls",
          "model_module_version": "1.5.0",
          "model_name": "HTMLModel",
          "state": {
            "_dom_classes": [],
            "_model_module": "@jupyter-widgets/controls",
            "_model_module_version": "1.5.0",
            "_model_name": "HTMLModel",
            "_view_count": null,
            "_view_module": "@jupyter-widgets/controls",
            "_view_module_version": "1.5.0",
            "_view_name": "HTMLView",
            "description": "",
            "description_tooltip": null,
            "layout": "IPY_MODEL_9f91a05f96b345c9bf34160d1908ffb8",
            "placeholder": "​",
            "style": "IPY_MODEL_1a0d264f066c4737a3729f4aa197c730",
            "value": "Epoch: 100%"
          }
        },
        "96b6adf759ac409eb0b39fb52e09ceb9": {
          "model_module": "@jupyter-widgets/base",
          "model_module_version": "1.2.0",
          "model_name": "LayoutModel",
          "state": {
            "_model_module": "@jupyter-widgets/base",
            "_model_module_version": "1.2.0",
            "_model_name": "LayoutModel",
            "_view_count": null,
            "_view_module": "@jupyter-widgets/base",
            "_view_module_version": "1.2.0",
            "_view_name": "LayoutView",
            "align_content": null,
            "align_items": null,
            "align_self": null,
            "border": null,
            "bottom": null,
            "display": null,
            "flex": null,
            "flex_flow": null,
            "grid_area": null,
            "grid_auto_columns": null,
            "grid_auto_flow": null,
            "grid_auto_rows": null,
            "grid_column": null,
            "grid_gap": null,
            "grid_row": null,
            "grid_template_areas": null,
            "grid_template_columns": null,
            "grid_template_rows": null,
            "height": null,
            "justify_content": null,
            "justify_items": null,
            "left": null,
            "margin": null,
            "max_height": null,
            "max_width": null,
            "min_height": null,
            "min_width": null,
            "object_fit": null,
            "object_position": null,
            "order": null,
            "overflow": null,
            "overflow_x": null,
            "overflow_y": null,
            "padding": null,
            "right": null,
            "top": null,
            "visibility": null,
            "width": null
          }
        },
        "97b997989f8f47658dbed3f08699fd13": {
          "model_module": "@jupyter-widgets/controls",
          "model_module_version": "1.5.0",
          "model_name": "HBoxModel",
          "state": {
            "_dom_classes": [],
            "_model_module": "@jupyter-widgets/controls",
            "_model_module_version": "1.5.0",
            "_model_name": "HBoxModel",
            "_view_count": null,
            "_view_module": "@jupyter-widgets/controls",
            "_view_module_version": "1.5.0",
            "_view_name": "HBoxView",
            "box_style": "",
            "children": [
              "IPY_MODEL_e1872906fdfb465ca88b6596cdf1e176",
              "IPY_MODEL_32a92c291afb4a059523c2fa23e9632e",
              "IPY_MODEL_e435d13c85ca4814bd75399a1f442616"
            ],
            "layout": "IPY_MODEL_5d13d7a9bfb64debb6ab723dd9bb3f0c"
          }
        },
        "9f91a05f96b345c9bf34160d1908ffb8": {
          "model_module": "@jupyter-widgets/base",
          "model_module_version": "1.2.0",
          "model_name": "LayoutModel",
          "state": {
            "_model_module": "@jupyter-widgets/base",
            "_model_module_version": "1.2.0",
            "_model_name": "LayoutModel",
            "_view_count": null,
            "_view_module": "@jupyter-widgets/base",
            "_view_module_version": "1.2.0",
            "_view_name": "LayoutView",
            "align_content": null,
            "align_items": null,
            "align_self": null,
            "border": null,
            "bottom": null,
            "display": null,
            "flex": null,
            "flex_flow": null,
            "grid_area": null,
            "grid_auto_columns": null,
            "grid_auto_flow": null,
            "grid_auto_rows": null,
            "grid_column": null,
            "grid_gap": null,
            "grid_row": null,
            "grid_template_areas": null,
            "grid_template_columns": null,
            "grid_template_rows": null,
            "height": null,
            "justify_content": null,
            "justify_items": null,
            "left": null,
            "margin": null,
            "max_height": null,
            "max_width": null,
            "min_height": null,
            "min_width": null,
            "object_fit": null,
            "object_position": null,
            "order": null,
            "overflow": null,
            "overflow_x": null,
            "overflow_y": null,
            "padding": null,
            "right": null,
            "top": null,
            "visibility": null,
            "width": null
          }
        },
        "a01b898f9eb04fa681955335c219fecb": {
          "model_module": "@jupyter-widgets/controls",
          "model_module_version": "1.5.0",
          "model_name": "HTMLModel",
          "state": {
            "_dom_classes": [],
            "_model_module": "@jupyter-widgets/controls",
            "_model_module_version": "1.5.0",
            "_model_name": "HTMLModel",
            "_view_count": null,
            "_view_module": "@jupyter-widgets/controls",
            "_view_module_version": "1.5.0",
            "_view_name": "HTMLView",
            "description": "",
            "description_tooltip": null,
            "layout": "IPY_MODEL_680c800a23ca493c8900b48720c1cc97",
            "placeholder": "​",
            "style": "IPY_MODEL_cd5f1a3b1b5e4c7398aef966911633ee",
            "value": " 2/2 [00:01&lt;00:00,  1.45it/s]"
          }
        },
        "c23f4ac0dd46409ea1e511dbeff51396": {
          "model_module": "@jupyter-widgets/controls",
          "model_module_version": "1.5.0",
          "model_name": "ProgressStyleModel",
          "state": {
            "_model_module": "@jupyter-widgets/controls",
            "_model_module_version": "1.5.0",
            "_model_name": "ProgressStyleModel",
            "_view_count": null,
            "_view_module": "@jupyter-widgets/base",
            "_view_module_version": "1.2.0",
            "_view_name": "StyleView",
            "bar_color": null,
            "description_width": ""
          }
        },
        "cbbda50ba7e54463903dcbedc76c0033": {
          "model_module": "@jupyter-widgets/controls",
          "model_module_version": "1.5.0",
          "model_name": "DescriptionStyleModel",
          "state": {
            "_model_module": "@jupyter-widgets/controls",
            "_model_module_version": "1.5.0",
            "_model_name": "DescriptionStyleModel",
            "_view_count": null,
            "_view_module": "@jupyter-widgets/base",
            "_view_module_version": "1.2.0",
            "_view_name": "StyleView",
            "description_width": ""
          }
        },
        "cd5f1a3b1b5e4c7398aef966911633ee": {
          "model_module": "@jupyter-widgets/controls",
          "model_module_version": "1.5.0",
          "model_name": "DescriptionStyleModel",
          "state": {
            "_model_module": "@jupyter-widgets/controls",
            "_model_module_version": "1.5.0",
            "_model_name": "DescriptionStyleModel",
            "_view_count": null,
            "_view_module": "@jupyter-widgets/base",
            "_view_module_version": "1.2.0",
            "_view_name": "StyleView",
            "description_width": ""
          }
        },
        "ce550188913348bc8c1d31d19173745a": {
          "model_module": "@jupyter-widgets/controls",
          "model_module_version": "1.5.0",
          "model_name": "DescriptionStyleModel",
          "state": {
            "_model_module": "@jupyter-widgets/controls",
            "_model_module_version": "1.5.0",
            "_model_name": "DescriptionStyleModel",
            "_view_count": null,
            "_view_module": "@jupyter-widgets/base",
            "_view_module_version": "1.2.0",
            "_view_name": "StyleView",
            "description_width": ""
          }
        },
        "d6ebadbc98c94384a48f1f21f0922321": {
          "model_module": "@jupyter-widgets/controls",
          "model_module_version": "1.5.0",
          "model_name": "HBoxModel",
          "state": {
            "_dom_classes": [],
            "_model_module": "@jupyter-widgets/controls",
            "_model_module_version": "1.5.0",
            "_model_name": "HBoxModel",
            "_view_count": null,
            "_view_module": "@jupyter-widgets/controls",
            "_view_module_version": "1.5.0",
            "_view_name": "HBoxView",
            "box_style": "",
            "children": [
              "IPY_MODEL_861c397e0b70407ea46f26f3360c0fc0",
              "IPY_MODEL_425df46ab9974c7a990b84b2d952bf06",
              "IPY_MODEL_dfe14048e7ea484ba50249da947ce570"
            ],
            "layout": "IPY_MODEL_537805028c4a4500bd6dcbee7d12849c"
          }
        },
        "d8fbb242064b4438a47f6b345bf5404e": {
          "model_module": "@jupyter-widgets/controls",
          "model_module_version": "1.5.0",
          "model_name": "DescriptionStyleModel",
          "state": {
            "_model_module": "@jupyter-widgets/controls",
            "_model_module_version": "1.5.0",
            "_model_name": "DescriptionStyleModel",
            "_view_count": null,
            "_view_module": "@jupyter-widgets/base",
            "_view_module_version": "1.2.0",
            "_view_name": "StyleView",
            "description_width": ""
          }
        },
        "dfe14048e7ea484ba50249da947ce570": {
          "model_module": "@jupyter-widgets/controls",
          "model_module_version": "1.5.0",
          "model_name": "HTMLModel",
          "state": {
            "_dom_classes": [],
            "_model_module": "@jupyter-widgets/controls",
            "_model_module_version": "1.5.0",
            "_model_name": "HTMLModel",
            "_view_count": null,
            "_view_module": "@jupyter-widgets/controls",
            "_view_module_version": "1.5.0",
            "_view_name": "HTMLView",
            "description": "",
            "description_tooltip": null,
            "layout": "IPY_MODEL_1a6dc99330d247d0a029e176cbc773d7",
            "placeholder": "​",
            "style": "IPY_MODEL_56a0557abf114d42baa557e1264b0955",
            "value": " 12/12 [00:00&lt;00:00, 19.13it/s]"
          }
        },
        "e1872906fdfb465ca88b6596cdf1e176": {
          "model_module": "@jupyter-widgets/controls",
          "model_module_version": "1.5.0",
          "model_name": "HTMLModel",
          "state": {
            "_dom_classes": [],
            "_model_module": "@jupyter-widgets/controls",
            "_model_module_version": "1.5.0",
            "_model_name": "HTMLModel",
            "_view_count": null,
            "_view_module": "@jupyter-widgets/controls",
            "_view_module_version": "1.5.0",
            "_view_name": "HTMLView",
            "description": "",
            "description_tooltip": null,
            "layout": "IPY_MODEL_884c17e0de984e84b754ccdb7b465951",
            "placeholder": "​",
            "style": "IPY_MODEL_d8fbb242064b4438a47f6b345bf5404e",
            "value": "Iteration: 100%"
          }
        },
        "e435d13c85ca4814bd75399a1f442616": {
          "model_module": "@jupyter-widgets/controls",
          "model_module_version": "1.5.0",
          "model_name": "HTMLModel",
          "state": {
            "_dom_classes": [],
            "_model_module": "@jupyter-widgets/controls",
            "_model_module_version": "1.5.0",
            "_model_name": "HTMLModel",
            "_view_count": null,
            "_view_module": "@jupyter-widgets/controls",
            "_view_module_version": "1.5.0",
            "_view_name": "HTMLView",
            "description": "",
            "description_tooltip": null,
            "layout": "IPY_MODEL_6afdedbad22f48239f84bec5a7f5ba76",
            "placeholder": "​",
            "style": "IPY_MODEL_ce550188913348bc8c1d31d19173745a",
            "value": " 12/12 [00:00&lt;00:00, 15.77it/s]"
          }
        },
        "e8fc5ced843d4b349545640cbcd27695": {
          "model_module": "@jupyter-widgets/controls",
          "model_module_version": "1.5.0",
          "model_name": "HBoxModel",
          "state": {
            "_dom_classes": [],
            "_model_module": "@jupyter-widgets/controls",
            "_model_module_version": "1.5.0",
            "_model_name": "HBoxModel",
            "_view_count": null,
            "_view_module": "@jupyter-widgets/controls",
            "_view_module_version": "1.5.0",
            "_view_name": "HBoxView",
            "box_style": "",
            "children": [
              "IPY_MODEL_96698af495b241a0b3c5fe4a23d0a68c",
              "IPY_MODEL_83a5e700b25f494c9e9e0f9db0894806",
              "IPY_MODEL_a01b898f9eb04fa681955335c219fecb"
            ],
            "layout": "IPY_MODEL_3e91614b31d4416a9aa659d24c631283"
          }
        }
      }
    }
  },
  "nbformat": 4,
  "nbformat_minor": 0
}
